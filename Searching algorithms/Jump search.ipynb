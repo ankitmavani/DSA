{
 "cells": [
  {
   "cell_type": "code",
   "execution_count": 18,
   "id": "6f568780",
   "metadata": {},
   "outputs": [],
   "source": [
    "import math\n",
    "def jump_search(a,x):\n",
    "    \n",
    "    n=len(a)\n",
    "    end=int(math.sqrt(n))\n",
    "    start=0\n",
    "    while a[end]<x and end<n-1:\n",
    "        start=end\n",
    "        end+=int(math.sqrt(n))\n",
    "        if end>=n:\n",
    "            end=n-1\n",
    "        \n",
    "        \n",
    "    i=start\n",
    "    while(i<=end):\n",
    "        if a[i]==x:\n",
    "            return i\n",
    "        i+=1\n",
    "    return -1\n",
    "    "
   ]
  },
  {
   "cell_type": "code",
   "execution_count": 21,
   "id": "9fcfc62a",
   "metadata": {},
   "outputs": [],
   "source": [
    "arr=[1,2,3,4,5,6,7,8,9,21,90]"
   ]
  },
  {
   "cell_type": "code",
   "execution_count": 26,
   "id": "76342a9d",
   "metadata": {},
   "outputs": [
    {
     "data": {
      "text/plain": [
       "1"
      ]
     },
     "execution_count": 26,
     "metadata": {},
     "output_type": "execute_result"
    }
   ],
   "source": [
    "jump_search(arr,2)"
   ]
  },
  {
   "cell_type": "code",
   "execution_count": null,
   "id": "38d497d1",
   "metadata": {},
   "outputs": [],
   "source": []
  },
  {
   "cell_type": "code",
   "execution_count": null,
   "id": "0d11eb54",
   "metadata": {},
   "outputs": [],
   "source": []
  },
  {
   "cell_type": "code",
   "execution_count": null,
   "id": "1c425edf",
   "metadata": {},
   "outputs": [],
   "source": []
  }
 ],
 "metadata": {
  "kernelspec": {
   "display_name": "Python 3",
   "language": "python",
   "name": "python3"
  },
  "language_info": {
   "codemirror_mode": {
    "name": "ipython",
    "version": 3
   },
   "file_extension": ".py",
   "mimetype": "text/x-python",
   "name": "python",
   "nbconvert_exporter": "python",
   "pygments_lexer": "ipython3",
   "version": "3.8.8"
  }
 },
 "nbformat": 4,
 "nbformat_minor": 5
}
