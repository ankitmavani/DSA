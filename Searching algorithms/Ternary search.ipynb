{
 "cells": [
  {
   "cell_type": "code",
   "execution_count": 11,
   "id": "f8f07f3d",
   "metadata": {},
   "outputs": [],
   "source": [
    "def ternarysearch(a,x,l,h):\n",
    "    mid1=int(l+(h-l)/3)\n",
    "    mid2=int(h-(h-l)/3)\n",
    "    if h>=l:\n",
    "        if a[mid1]==x:\n",
    "            return mid1\n",
    "        elif a[mid2]==x:\n",
    "            return mid2\n",
    "        elif a[mid1]>x:\n",
    "            return ternarysearch(a,x,l,mid1-1)\n",
    "        elif a[mid2]<x:\n",
    "            return ternarysearch(a,x,mid2+1,h)\n",
    "        else:\n",
    "            return ternarysearch(a,x,mid1+1,mid2-1)\n",
    "    else:\n",
    "        return -1"
   ]
  },
  {
   "cell_type": "code",
   "execution_count": 12,
   "id": "523b27af",
   "metadata": {},
   "outputs": [],
   "source": [
    "arr=[1,2,3,4,5,6,7,8,9,11,12,13,14,15,16,17]"
   ]
  },
  {
   "cell_type": "code",
   "execution_count": 19,
   "id": "ea27f716",
   "metadata": {},
   "outputs": [
    {
     "data": {
      "text/plain": [
       "-1"
      ]
     },
     "execution_count": 19,
     "metadata": {},
     "output_type": "execute_result"
    }
   ],
   "source": [
    "ternarysearch(arr,18,0,len(arr)-1)"
   ]
  },
  {
   "cell_type": "code",
   "execution_count": null,
   "id": "4abacb5f",
   "metadata": {},
   "outputs": [],
   "source": []
  }
 ],
 "metadata": {
  "kernelspec": {
   "display_name": "Python 3",
   "language": "python",
   "name": "python3"
  },
  "language_info": {
   "codemirror_mode": {
    "name": "ipython",
    "version": 3
   },
   "file_extension": ".py",
   "mimetype": "text/x-python",
   "name": "python",
   "nbconvert_exporter": "python",
   "pygments_lexer": "ipython3",
   "version": "3.8.8"
  }
 },
 "nbformat": 4,
 "nbformat_minor": 5
}
