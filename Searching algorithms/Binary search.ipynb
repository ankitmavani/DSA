{
 "cells": [
  {
   "cell_type": "code",
   "execution_count": 4,
   "id": "1e883427",
   "metadata": {},
   "outputs": [],
   "source": [
    "def Binary_Search(a,x,l,h):\n",
    "    mid=int(l+(h-l)/2)\n",
    "    print(mid)\n",
    "    if h>=l:\n",
    "        if a[mid]==x:\n",
    "            return mid\n",
    "        elif a[mid]>x:\n",
    "            return Binary_Search(a,x,l,mid-1)\n",
    "        else:\n",
    "            return Binary_Search(a,x,mid+1,h)\n",
    "    else:\n",
    "        return -1"
   ]
  },
  {
   "cell_type": "code",
   "execution_count": 2,
   "id": "5e590201",
   "metadata": {},
   "outputs": [],
   "source": [
    "arr=[12,23,34,45,56,67,78,89]"
   ]
  },
  {
   "cell_type": "code",
   "execution_count": 3,
   "id": "4c86a800",
   "metadata": {},
   "outputs": [
    {
     "name": "stdout",
     "output_type": "stream",
     "text": [
      "3\n",
      "1\n",
      "2\n"
     ]
    },
    {
     "data": {
      "text/plain": [
       "2"
      ]
     },
     "execution_count": 3,
     "metadata": {},
     "output_type": "execute_result"
    }
   ],
   "source": [
    "Binarysearch(arr,34)"
   ]
  },
  {
   "cell_type": "code",
   "execution_count": 1,
   "id": "e283dd2d",
   "metadata": {},
   "outputs": [],
   "source": [
    "def Binarysearch(a,key):\n",
    "    l=0\n",
    "    h=len(arr)-1\n",
    "    while h>=l:\n",
    "        mid = int(l+(h-l)/2)\n",
    "        print(mid)\n",
    "        if a[mid]==key:\n",
    "            return mid\n",
    "        elif a[mid]>key:\n",
    "            h=mid-1\n",
    "        else:\n",
    "            l=mid+1\n",
    "    return -1"
   ]
  },
  {
   "cell_type": "code",
   "execution_count": null,
   "id": "22a2b2f3",
   "metadata": {},
   "outputs": [],
   "source": []
  }
 ],
 "metadata": {
  "kernelspec": {
   "display_name": "Python 3",
   "language": "python",
   "name": "python3"
  },
  "language_info": {
   "codemirror_mode": {
    "name": "ipython",
    "version": 3
   },
   "file_extension": ".py",
   "mimetype": "text/x-python",
   "name": "python",
   "nbconvert_exporter": "python",
   "pygments_lexer": "ipython3",
   "version": "3.8.8"
  }
 },
 "nbformat": 4,
 "nbformat_minor": 5
}
