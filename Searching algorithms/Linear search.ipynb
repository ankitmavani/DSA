{
 "cells": [
  {
   "cell_type": "code",
   "execution_count": 1,
   "id": "f063515e",
   "metadata": {},
   "outputs": [],
   "source": [
    "arr=[12,15,16,79,13,56,48,55]"
   ]
  },
  {
   "cell_type": "code",
   "execution_count": 2,
   "id": "351e77a2",
   "metadata": {},
   "outputs": [
    {
     "data": {
      "text/plain": [
       "[12, 15, 16, 79, 13, 56, 48, 55]"
      ]
     },
     "execution_count": 2,
     "metadata": {},
     "output_type": "execute_result"
    }
   ],
   "source": [
    "arr"
   ]
  },
  {
   "cell_type": "code",
   "execution_count": 7,
   "id": "e4d06e6d",
   "metadata": {},
   "outputs": [],
   "source": [
    "def Linearsearch(a,x):\n",
    "    for i in a:\n",
    "        if i==x:\n",
    "            return a.index(i)\n",
    "    return -1"
   ]
  },
  {
   "cell_type": "code",
   "execution_count": 9,
   "id": "05a5a896",
   "metadata": {},
   "outputs": [
    {
     "data": {
      "text/plain": [
       "3"
      ]
     },
     "execution_count": 9,
     "metadata": {},
     "output_type": "execute_result"
    }
   ],
   "source": [
    "Linearsearch(arr,79)"
   ]
  },
  {
   "cell_type": "code",
   "execution_count": null,
   "id": "2f021ee3",
   "metadata": {},
   "outputs": [],
   "source": []
  }
 ],
 "metadata": {
  "kernelspec": {
   "display_name": "Python 3",
   "language": "python",
   "name": "python3"
  },
  "language_info": {
   "codemirror_mode": {
    "name": "ipython",
    "version": 3
   },
   "file_extension": ".py",
   "mimetype": "text/x-python",
   "name": "python",
   "nbconvert_exporter": "python",
   "pygments_lexer": "ipython3",
   "version": "3.8.8"
  }
 },
 "nbformat": 4,
 "nbformat_minor": 5
}
