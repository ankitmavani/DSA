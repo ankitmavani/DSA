{
 "cells": [
  {
   "cell_type": "code",
   "execution_count": 10,
   "id": "16e5f897",
   "metadata": {},
   "outputs": [],
   "source": [
    "def interpolation(a,key):\n",
    "    l=0\n",
    "    h=len(arr)-1\n",
    "    while h>=l:\n",
    "        mid = int(l+((key-a[l])/(a[h]-a[l]))*(h-l))\n",
    "        if a[mid]==key:\n",
    "            return mid\n",
    "        elif a[mid]>key:\n",
    "            h=mid-1\n",
    "        else:\n",
    "            l=mid+1\n",
    "    return -1"
   ]
  },
  {
   "cell_type": "code",
   "execution_count": 11,
   "id": "7726ce14",
   "metadata": {},
   "outputs": [],
   "source": [
    "arr=[1,3,5,7,45,56,67,87,234,124]"
   ]
  },
  {
   "cell_type": "code",
   "execution_count": 14,
   "id": "8cc8f246",
   "metadata": {},
   "outputs": [
    {
     "data": {
      "text/plain": [
       "9"
      ]
     },
     "execution_count": 14,
     "metadata": {},
     "output_type": "execute_result"
    }
   ],
   "source": [
    "interpolation(arr,124)"
   ]
  },
  {
   "cell_type": "code",
   "execution_count": null,
   "id": "6e13981c",
   "metadata": {},
   "outputs": [],
   "source": []
  }
 ],
 "metadata": {
  "kernelspec": {
   "display_name": "Python 3",
   "language": "python",
   "name": "python3"
  },
  "language_info": {
   "codemirror_mode": {
    "name": "ipython",
    "version": 3
   },
   "file_extension": ".py",
   "mimetype": "text/x-python",
   "name": "python",
   "nbconvert_exporter": "python",
   "pygments_lexer": "ipython3",
   "version": "3.8.8"
  }
 },
 "nbformat": 4,
 "nbformat_minor": 5
}
