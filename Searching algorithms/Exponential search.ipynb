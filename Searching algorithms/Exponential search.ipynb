{
 "cells": [
  {
   "cell_type": "code",
   "execution_count": 5,
   "id": "6b1ff32e",
   "metadata": {},
   "outputs": [],
   "source": [
    "def Binarysearch(a,key,l,h):\n",
    "    while h>=l:\n",
    "        mid = int(l+(h-l)/2)\n",
    "        if a[mid]==key:\n",
    "            return mid\n",
    "        elif a[mid]>key:\n",
    "            h=mid-1\n",
    "        else:\n",
    "            l=mid+1\n",
    "    return -1"
   ]
  },
  {
   "cell_type": "code",
   "execution_count": 14,
   "id": "168c045e",
   "metadata": {},
   "outputs": [],
   "source": [
    "def  Exponential(a,x):\n",
    "    if a[0]==x:\n",
    "        return 0\n",
    "    i=1\n",
    "    n=len(a)\n",
    "    while i<n and a[i]<=x:\n",
    "        i=i*2\n",
    "    print(int(i/2))\n",
    "    return Binarysearch(a,x,int(i/2),min(i,n-1))"
   ]
  },
  {
   "cell_type": "code",
   "execution_count": 15,
   "id": "fd23d962",
   "metadata": {},
   "outputs": [],
   "source": [
    "arr=[1,2,3,4,5,6,7,8,9,10,11,12,13]"
   ]
  },
  {
   "cell_type": "code",
   "execution_count": 18,
   "id": "f8ffedc8",
   "metadata": {},
   "outputs": [
    {
     "name": "stdout",
     "output_type": "stream",
     "text": [
      "4\n"
     ]
    },
    {
     "data": {
      "text/plain": [
       "7"
      ]
     },
     "execution_count": 18,
     "metadata": {},
     "output_type": "execute_result"
    }
   ],
   "source": [
    "Exponential(arr,8)"
   ]
  },
  {
   "cell_type": "code",
   "execution_count": null,
   "id": "05b38fbb",
   "metadata": {},
   "outputs": [],
   "source": []
  }
 ],
 "metadata": {
  "kernelspec": {
   "display_name": "Python 3",
   "language": "python",
   "name": "python3"
  },
  "language_info": {
   "codemirror_mode": {
    "name": "ipython",
    "version": 3
   },
   "file_extension": ".py",
   "mimetype": "text/x-python",
   "name": "python",
   "nbconvert_exporter": "python",
   "pygments_lexer": "ipython3",
   "version": "3.8.8"
  }
 },
 "nbformat": 4,
 "nbformat_minor": 5
}
