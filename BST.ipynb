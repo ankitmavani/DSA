{
 "cells": [
  {
   "cell_type": "code",
   "execution_count": 3,
   "metadata": {},
   "outputs": [],
   "source": [
    "class TreeNode:\n",
    "    def __init__(self,data,left=None,right=None):\n",
    "        self.data = data\n",
    "        self.left = left\n",
    "        self.right = right\n",
    "    \n",
    "    def insert(self,data):\n",
    "        if self.data < data:\n",
    "            if self.right:\n",
    "                self.right.insert(data)\n",
    "            else:\n",
    "                self.right = TreeNode(data)\n",
    "        else:\n",
    "            if self.left:\n",
    "                self.left.insert(data)\n",
    "            else:\n",
    "                self.left = TreeNode(data)\n",
    "    \n",
    "    def delete(self,data):\n",
    "        temp = self.search(data)\n",
    "        if temp:\n",
    "            self.remove(data)\n",
    "        else:\n",
    "            return False\n",
    "    \n",
    "    def remove(self,data):\n",
    "        if self == None:\n",
    "            return None\n",
    "        \n",
    "        if self.data < data:\n",
    "            self.right = self.right.remove(data)\n",
    "        elif self.data > data:\n",
    "            self.left = self.left.remove(data)\n",
    "        else:\n",
    "            if self.left == None:\n",
    "                rightChild = self.right\n",
    "                self.data = None\n",
    "                return rightChild\n",
    "            if self.right == None:\n",
    "                leftChild = self.left\n",
    "                self.data = None\n",
    "                return leftChild\n",
    "            else:\n",
    "                temp = self.right.findMin()\n",
    "                self.data = temp.data\n",
    "                self.right = self.right.remove(temp.data)\n",
    "        return self\n",
    "    \n",
    "    def search(self,data):\n",
    "        if self.data == data:\n",
    "            return self\n",
    "        elif self.data < data and self.right:\n",
    "            return self.right.search(data)\n",
    "        elif self.data > data and self.left:\n",
    "            return self.left.search(data)\n",
    "        else: \n",
    "            return None\n",
    "        \n",
    "    def preorder(self):\n",
    "        print(self.data)\n",
    "        if self.left:\n",
    "            self.left.preorder()\n",
    "        if self.right:\n",
    "            self.right.preorder()\n",
    "    \n",
    "    def findMax(self):\n",
    "        temp = self\n",
    "        while temp.right:\n",
    "            temp = temp.right\n",
    "        return temp\n",
    "    \n",
    "    def findMin(self):\n",
    "        temp = self\n",
    "        while temp.left:\n",
    "            temp = temp.left\n",
    "        return temp\n",
    "    \n",
    "    "
   ]
  },
  {
   "cell_type": "code",
   "execution_count": 4,
   "metadata": {},
   "outputs": [],
   "source": [
    "class Tree:\n",
    "    def __init__(self,data):\n",
    "        self.root =TreeNode(data)\n",
    "    \n",
    "    def insert(self,data):\n",
    "        self.root.insert(data)\n",
    "    \n",
    "    def delete(self,data):\n",
    "        self.root.delete(data)\n",
    "    \n",
    "    def dis(self):\n",
    "        self.root.preorder()\n"
   ]
  },
  {
   "cell_type": "code",
   "execution_count": 5,
   "metadata": {},
   "outputs": [],
   "source": [
    "tree = Tree(50)"
   ]
  },
  {
   "cell_type": "code",
   "execution_count": 6,
   "metadata": {},
   "outputs": [],
   "source": [
    "tree.insert(30)\n",
    "tree.insert(70)\n",
    "tree.insert(60)\n",
    "tree.insert(80)\n",
    "tree.insert(20)\n",
    "tree.insert(40)"
   ]
  },
  {
   "cell_type": "code",
   "execution_count": 7,
   "metadata": {},
   "outputs": [
    {
     "ename": "AttributeError",
     "evalue": "'TreeNode' object has no attribute 'inorder'",
     "output_type": "error",
     "traceback": [
      "\u001b[0;31m---------------------------------------------------------------------------\u001b[0m",
      "\u001b[0;31mAttributeError\u001b[0m                            Traceback (most recent call last)",
      "\u001b[0;32m<ipython-input-7-f9d3435808ed>\u001b[0m in \u001b[0;36m<module>\u001b[0;34m\u001b[0m\n\u001b[0;32m----> 1\u001b[0;31m \u001b[0mtree\u001b[0m\u001b[0;34m.\u001b[0m\u001b[0mdis\u001b[0m\u001b[0;34m(\u001b[0m\u001b[0;34m)\u001b[0m\u001b[0;34m\u001b[0m\u001b[0;34m\u001b[0m\u001b[0m\n\u001b[0m",
      "\u001b[0;32m<ipython-input-4-0391e201d79b>\u001b[0m in \u001b[0;36mdis\u001b[0;34m(self)\u001b[0m\n\u001b[1;32m     10\u001b[0m \u001b[0;34m\u001b[0m\u001b[0m\n\u001b[1;32m     11\u001b[0m     \u001b[0;32mdef\u001b[0m \u001b[0mdis\u001b[0m\u001b[0;34m(\u001b[0m\u001b[0mself\u001b[0m\u001b[0;34m)\u001b[0m\u001b[0;34m:\u001b[0m\u001b[0;34m\u001b[0m\u001b[0;34m\u001b[0m\u001b[0m\n\u001b[0;32m---> 12\u001b[0;31m         \u001b[0mself\u001b[0m\u001b[0;34m.\u001b[0m\u001b[0mroot\u001b[0m\u001b[0;34m.\u001b[0m\u001b[0minorder\u001b[0m\u001b[0;34m(\u001b[0m\u001b[0;34m)\u001b[0m\u001b[0;34m\u001b[0m\u001b[0;34m\u001b[0m\u001b[0m\n\u001b[0m",
      "\u001b[0;31mAttributeError\u001b[0m: 'TreeNode' object has no attribute 'inorder'"
     ]
    }
   ],
   "source": [
    "tree.dis()"
   ]
  },
  {
   "cell_type": "code",
   "execution_count": 252,
   "metadata": {},
   "outputs": [],
   "source": [
    "tree.delete(50)"
   ]
  },
  {
   "cell_type": "code",
   "execution_count": 253,
   "metadata": {},
   "outputs": [
    {
     "name": "stdout",
     "output_type": "stream",
     "text": [
      "60\n",
      "30\n",
      "20\n",
      "40\n",
      "70\n",
      "80\n"
     ]
    }
   ],
   "source": [
    "tree.dis()"
   ]
  }
 ],
 "metadata": {
  "kernelspec": {
   "display_name": "Python 3",
   "language": "python",
   "name": "python3"
  },
  "language_info": {
   "codemirror_mode": {
    "name": "ipython",
    "version": 3
   },
   "file_extension": ".py",
   "mimetype": "text/x-python",
   "name": "python",
   "nbconvert_exporter": "python",
   "pygments_lexer": "ipython3",
   "version": "3.8.8"
  }
 },
 "nbformat": 4,
 "nbformat_minor": 4
}
