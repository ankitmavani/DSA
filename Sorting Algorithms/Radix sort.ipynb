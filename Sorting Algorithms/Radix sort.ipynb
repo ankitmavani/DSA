{
 "cells": [
  {
   "cell_type": "code",
   "execution_count": 17,
   "id": "4b8858c8",
   "metadata": {},
   "outputs": [],
   "source": [
    "def countingsort(a,pos):\n",
    "    b=[0]*10\n",
    "    temp=[0]*len(a)\n",
    "    for i in range(len(a)):\n",
    "        b[int(int(a[i]/pos)%10)]+=1\n",
    "    \n",
    "    for i in range(len(b)):\n",
    "        if i>0:\n",
    "            b[i]+=b[i-1]\n",
    "            \n",
    "    for i in range(len(a)):\n",
    "        temp[b[int(int(a[i]/pos)%10)]-1]=a[i]\n",
    "        b[int(int(a[i]/pos)%10)]-=1\n",
    "        \n",
    "    for i in range(len(a)):\n",
    "        a[i]=temp[i]\n",
    "         \n",
    "        \n",
    "        \n",
    "def Radix(a):\n",
    "    c=max(a)\n",
    "    pos=1\n",
    "    while c/pos>0:\n",
    "        countingsort(a,pos)\n",
    "        pos*=10\n",
    "    print(a)"
   ]
  },
  {
   "cell_type": "code",
   "execution_count": 18,
   "id": "ac24cac1",
   "metadata": {},
   "outputs": [],
   "source": [
    "a=[123,345,678,23,900,343,111,567]"
   ]
  },
  {
   "cell_type": "code",
   "execution_count": 19,
   "id": "c224a95a",
   "metadata": {},
   "outputs": [
    {
     "name": "stdout",
     "output_type": "stream",
     "text": [
      "[23, 123, 111, 343, 345, 567, 678, 900]\n"
     ]
    }
   ],
   "source": [
    "Radix(a)"
   ]
  },
  {
   "cell_type": "code",
   "execution_count": null,
   "id": "196e2c04",
   "metadata": {},
   "outputs": [],
   "source": []
  }
 ],
 "metadata": {
  "kernelspec": {
   "display_name": "Python 3",
   "language": "python",
   "name": "python3"
  },
  "language_info": {
   "codemirror_mode": {
    "name": "ipython",
    "version": 3
   },
   "file_extension": ".py",
   "mimetype": "text/x-python",
   "name": "python",
   "nbconvert_exporter": "python",
   "pygments_lexer": "ipython3",
   "version": "3.8.8"
  }
 },
 "nbformat": 4,
 "nbformat_minor": 5
}
