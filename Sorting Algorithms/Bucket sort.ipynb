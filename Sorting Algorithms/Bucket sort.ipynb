{
 "cells": [
  {
   "cell_type": "code",
   "execution_count": 15,
   "id": "b9b8a2b7",
   "metadata": {},
   "outputs": [],
   "source": [
    "def insertion(a):\n",
    "    for i in range(len(a)):\n",
    "        key=a[i]\n",
    "        j=i-1\n",
    "        while j>=0 and a[j]>key:\n",
    "            a[j+1]=a[j]\n",
    "            j-=1\n",
    "        a[j+1]=key\n",
    "    return a\n",
    "\n",
    "def bucket(a):\n",
    "    arr=[]\n",
    "    slot=10\n",
    "    for i in range(slot):\n",
    "        arr.append([])\n",
    "        \n",
    "    for i in a:\n",
    "        index=int(i*10)\n",
    "        arr[index].append(i)\n",
    "        \n",
    "    for i in range(slot):\n",
    "        arr[i]=insertion(arr[i])\n",
    "        \n",
    "    k=0\n",
    "    temp=[0]*len(a)\n",
    "    for i in range(slot):\n",
    "        for j in range(len(arr[i])):\n",
    "            temp[k]=arr[i][j]\n",
    "            k+=1\n",
    "        \n",
    "    print(temp)"
   ]
  },
  {
   "cell_type": "code",
   "execution_count": 16,
   "id": "4cacefc6",
   "metadata": {},
   "outputs": [],
   "source": [
    "a=[0.564,0.695,0.789,0.456,0.159,0.733]"
   ]
  },
  {
   "cell_type": "code",
   "execution_count": 17,
   "id": "cc9939f6",
   "metadata": {},
   "outputs": [
    {
     "name": "stdout",
     "output_type": "stream",
     "text": [
      "[0.159, 0.456, 0.564, 0.695, 0.733, 0.789]\n"
     ]
    }
   ],
   "source": [
    "bucket(a)"
   ]
  },
  {
   "cell_type": "code",
   "execution_count": null,
   "id": "e08fa857",
   "metadata": {},
   "outputs": [],
   "source": []
  }
 ],
 "metadata": {
  "kernelspec": {
   "display_name": "Python 3",
   "language": "python",
   "name": "python3"
  },
  "language_info": {
   "codemirror_mode": {
    "name": "ipython",
    "version": 3
   },
   "file_extension": ".py",
   "mimetype": "text/x-python",
   "name": "python",
   "nbconvert_exporter": "python",
   "pygments_lexer": "ipython3",
   "version": "3.8.8"
  }
 },
 "nbformat": 4,
 "nbformat_minor": 5
}
