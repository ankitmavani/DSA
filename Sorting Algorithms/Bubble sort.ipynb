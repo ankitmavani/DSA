{
 "cells": [
  {
   "cell_type": "code",
   "execution_count": 6,
   "id": "8099e5e4",
   "metadata": {},
   "outputs": [],
   "source": [
    "def bubble(a):\n",
    "    i=0\n",
    "    n=len(a)\n",
    "    for k in a:\n",
    "        j=0\n",
    "        while j<n-i-1:\n",
    "            if a[j]>a[j+1]:\n",
    "                temp=a[j+1]\n",
    "                a[j+1]=a[j]\n",
    "                a[j]=temp\n",
    "            j+=1\n",
    "        print(a)\n",
    "        i+=1\n",
    "    print(a)"
   ]
  },
  {
   "cell_type": "code",
   "execution_count": 7,
   "id": "d16d5332",
   "metadata": {},
   "outputs": [],
   "source": [
    "arr=[11,17,13,15,112,161,18]"
   ]
  },
  {
   "cell_type": "code",
   "execution_count": 8,
   "id": "416bf59e",
   "metadata": {},
   "outputs": [
    {
     "name": "stdout",
     "output_type": "stream",
     "text": [
      "[11, 13, 15, 17, 112, 18, 161]\n",
      "[11, 13, 15, 17, 18, 112, 161]\n",
      "[11, 13, 15, 17, 18, 112, 161]\n",
      "[11, 13, 15, 17, 18, 112, 161]\n",
      "[11, 13, 15, 17, 18, 112, 161]\n",
      "[11, 13, 15, 17, 18, 112, 161]\n",
      "[11, 13, 15, 17, 18, 112, 161]\n",
      "[11, 13, 15, 17, 18, 112, 161]\n"
     ]
    }
   ],
   "source": [
    "bubble(arr)"
   ]
  },
  {
   "cell_type": "code",
   "execution_count": null,
   "id": "195443ad",
   "metadata": {},
   "outputs": [],
   "source": [
    "\n"
   ]
  }
 ],
 "metadata": {
  "kernelspec": {
   "display_name": "Python 3",
   "language": "python",
   "name": "python3"
  },
  "language_info": {
   "codemirror_mode": {
    "name": "ipython",
    "version": 3
   },
   "file_extension": ".py",
   "mimetype": "text/x-python",
   "name": "python",
   "nbconvert_exporter": "python",
   "pygments_lexer": "ipython3",
   "version": "3.8.8"
  }
 },
 "nbformat": 4,
 "nbformat_minor": 5
}
