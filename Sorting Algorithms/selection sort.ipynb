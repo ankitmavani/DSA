{
 "cells": [
  {
   "cell_type": "code",
   "execution_count": 13,
   "id": "ccbbdb47",
   "metadata": {},
   "outputs": [],
   "source": [
    "def selection(a):\n",
    "    i=0\n",
    "    n=len(a)\n",
    "    while i<n:\n",
    "        j=i+1\n",
    "        min=i\n",
    "        while j<n:\n",
    "            if a[min]>a[j]:\n",
    "                min=j\n",
    "            j+=1\n",
    "        temp=a[min]\n",
    "        a[min]=a[i]\n",
    "        a[i]=temp\n",
    "        print(a)\n",
    "        i+=1\n",
    "    print(a)\n",
    "                "
   ]
  },
  {
   "cell_type": "code",
   "execution_count": 14,
   "id": "e8150f74",
   "metadata": {},
   "outputs": [],
   "source": [
    "arr=[11,23,34,12,342,31,4312,1,34,2,13,12121,3]"
   ]
  },
  {
   "cell_type": "code",
   "execution_count": 15,
   "id": "89dbb6e3",
   "metadata": {},
   "outputs": [
    {
     "name": "stdout",
     "output_type": "stream",
     "text": [
      "[1, 23, 34, 12, 342, 31, 4312, 11, 34, 2, 13, 12121, 3]\n",
      "[1, 2, 34, 12, 342, 31, 4312, 11, 34, 23, 13, 12121, 3]\n",
      "[1, 2, 3, 12, 342, 31, 4312, 11, 34, 23, 13, 12121, 34]\n",
      "[1, 2, 3, 11, 342, 31, 4312, 12, 34, 23, 13, 12121, 34]\n",
      "[1, 2, 3, 11, 12, 31, 4312, 342, 34, 23, 13, 12121, 34]\n",
      "[1, 2, 3, 11, 12, 13, 4312, 342, 34, 23, 31, 12121, 34]\n",
      "[1, 2, 3, 11, 12, 13, 23, 342, 34, 4312, 31, 12121, 34]\n",
      "[1, 2, 3, 11, 12, 13, 23, 31, 34, 4312, 342, 12121, 34]\n",
      "[1, 2, 3, 11, 12, 13, 23, 31, 34, 4312, 342, 12121, 34]\n",
      "[1, 2, 3, 11, 12, 13, 23, 31, 34, 34, 342, 12121, 4312]\n",
      "[1, 2, 3, 11, 12, 13, 23, 31, 34, 34, 342, 12121, 4312]\n",
      "[1, 2, 3, 11, 12, 13, 23, 31, 34, 34, 342, 4312, 12121]\n",
      "[1, 2, 3, 11, 12, 13, 23, 31, 34, 34, 342, 4312, 12121]\n",
      "[1, 2, 3, 11, 12, 13, 23, 31, 34, 34, 342, 4312, 12121]\n"
     ]
    }
   ],
   "source": [
    "selection(arr)"
   ]
  },
  {
   "cell_type": "code",
   "execution_count": null,
   "id": "7ec86f0c",
   "metadata": {},
   "outputs": [],
   "source": []
  },
  {
   "cell_type": "code",
   "execution_count": null,
   "id": "76c5c311",
   "metadata": {},
   "outputs": [],
   "source": []
  }
 ],
 "metadata": {
  "kernelspec": {
   "display_name": "Python 3",
   "language": "python",
   "name": "python3"
  },
  "language_info": {
   "codemirror_mode": {
    "name": "ipython",
    "version": 3
   },
   "file_extension": ".py",
   "mimetype": "text/x-python",
   "name": "python",
   "nbconvert_exporter": "python",
   "pygments_lexer": "ipython3",
   "version": "3.8.8"
  }
 },
 "nbformat": 4,
 "nbformat_minor": 5
}
