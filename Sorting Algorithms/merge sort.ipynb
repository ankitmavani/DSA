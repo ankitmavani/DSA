{
 "cells": [
  {
   "cell_type": "code",
   "execution_count": 9,
   "id": "411af4cc",
   "metadata": {},
   "outputs": [],
   "source": [
    "def Merge(a,l,h):\n",
    "    if l<h:\n",
    "        mid=int((l+h)/2)\n",
    "        Merge(a,l,mid)\n",
    "        Merge(a,mid+1,h)\n",
    "        Mergesort(a,l,mid,h)\n",
    "        print(a)\n",
    "        \n",
    "def Mergesort(a,l,m,h):\n",
    "    i,j,k=l,m+1,0\n",
    "    \n",
    "    temp=[]\n",
    "    \n",
    "    while i<=m and j<=h :\n",
    "        if a[i]<=a[j]:\n",
    "            temp.append(a[i])\n",
    "            i+=1\n",
    "        else:\n",
    "            temp.append(a[j])\n",
    "            j+=1\n",
    "        k+=1\n",
    "    \n",
    "    while i<=m:\n",
    "        temp.append(a[i])\n",
    "        i+=1\n",
    "        k+=1\n",
    "        \n",
    "    while j<=h:\n",
    "        temp.append(a[j])\n",
    "        j+=1\n",
    "        k+=1\n",
    "    \n",
    "    for i in range(l,h+1):\n",
    "        a[i]=temp[i-l]\n",
    "    "
   ]
  },
  {
   "cell_type": "code",
   "execution_count": 12,
   "id": "0befcb79",
   "metadata": {},
   "outputs": [
    {
     "name": "stdout",
     "output_type": "stream",
     "text": [
      "[1, 34, 2, 56, 3, 78, 3, 45, 6, 33, 5]\n",
      "[1, 2, 34, 56, 3, 78, 3, 45, 6, 33, 5]\n",
      "[1, 2, 34, 3, 56, 78, 3, 45, 6, 33, 5]\n",
      "[1, 2, 34, 3, 56, 78, 3, 45, 6, 33, 5]\n",
      "[1, 2, 3, 34, 56, 78, 3, 45, 6, 33, 5]\n",
      "[1, 2, 3, 34, 56, 78, 3, 45, 6, 33, 5]\n",
      "[1, 2, 3, 34, 56, 78, 3, 6, 45, 33, 5]\n",
      "[1, 2, 3, 34, 56, 78, 3, 6, 45, 5, 33]\n",
      "[1, 2, 3, 34, 56, 78, 3, 5, 6, 33, 45]\n",
      "[1, 2, 3, 3, 5, 6, 33, 34, 45, 56, 78]\n"
     ]
    }
   ],
   "source": [
    "a=[1,34,2,56,3,78,3,45,6,33,5]\n",
    "Merge(a,0,10)"
   ]
  },
  {
   "cell_type": "code",
   "execution_count": null,
   "id": "87811da7",
   "metadata": {},
   "outputs": [],
   "source": []
  }
 ],
 "metadata": {
  "kernelspec": {
   "display_name": "Python 3",
   "language": "python",
   "name": "python3"
  },
  "language_info": {
   "codemirror_mode": {
    "name": "ipython",
    "version": 3
   },
   "file_extension": ".py",
   "mimetype": "text/x-python",
   "name": "python",
   "nbconvert_exporter": "python",
   "pygments_lexer": "ipython3",
   "version": "3.8.8"
  }
 },
 "nbformat": 4,
 "nbformat_minor": 5
}
