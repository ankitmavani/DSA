{
 "cells": [
  {
   "cell_type": "code",
   "execution_count": 44,
   "id": "e33eafc4",
   "metadata": {},
   "outputs": [],
   "source": [
    "def countingsort(a):\n",
    "    b=[0]*(max(a)+1)\n",
    "    temp=[0]*len(a)\n",
    "    for i in range(len(a)):\n",
    "        b[a[i]]+=1\n",
    "    \n",
    "    for i in range(len(b)):\n",
    "        if i>0:\n",
    "            b[i]+=b[i-1]\n",
    "            \n",
    "    for i in range(len(a)):\n",
    "        temp[b[a[i]]-1]=a[i]\n",
    "        b[a[i]]-=1\n",
    "        \n",
    "    print(temp)"
   ]
  },
  {
   "cell_type": "code",
   "execution_count": 46,
   "id": "9c851016",
   "metadata": {},
   "outputs": [
    {
     "name": "stdout",
     "output_type": "stream",
     "text": [
      "[1, 2, 2, 3, 4, 5, 5, 6, 7, 8]\n"
     ]
    }
   ],
   "source": [
    "a=[1,2,5,4,3,7,6,5,8,2]\n",
    "countingsort(a)"
   ]
  },
  {
   "cell_type": "code",
   "execution_count": null,
   "id": "aef51602",
   "metadata": {},
   "outputs": [],
   "source": []
  },
  {
   "cell_type": "code",
   "execution_count": null,
   "id": "fcc9bfea",
   "metadata": {},
   "outputs": [],
   "source": []
  }
 ],
 "metadata": {
  "kernelspec": {
   "display_name": "Python 3",
   "language": "python",
   "name": "python3"
  },
  "language_info": {
   "codemirror_mode": {
    "name": "ipython",
    "version": 3
   },
   "file_extension": ".py",
   "mimetype": "text/x-python",
   "name": "python",
   "nbconvert_exporter": "python",
   "pygments_lexer": "ipython3",
   "version": "3.8.8"
  }
 },
 "nbformat": 4,
 "nbformat_minor": 5
}
