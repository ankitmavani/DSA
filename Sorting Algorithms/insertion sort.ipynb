{
 "cells": [
  {
   "cell_type": "code",
   "execution_count": 10,
   "id": "371606ad",
   "metadata": {},
   "outputs": [],
   "source": [
    "def insertion(a):\n",
    "    for i in range(len(a)):\n",
    "        key=a[i]\n",
    "        j=i-1\n",
    "        while j>=0 and a[j]>key:\n",
    "            a[j+1]=a[j]\n",
    "            j-=1\n",
    "        a[j+1]=key\n",
    "        print(a)"
   ]
  },
  {
   "cell_type": "code",
   "execution_count": 13,
   "id": "08accc41",
   "metadata": {},
   "outputs": [],
   "source": [
    "arr=[1,5,2,3,7,83,12,4]"
   ]
  },
  {
   "cell_type": "code",
   "execution_count": 14,
   "id": "40c1f452",
   "metadata": {},
   "outputs": [
    {
     "name": "stdout",
     "output_type": "stream",
     "text": [
      "[1, 5, 2, 3, 7, 83, 12, 4]\n",
      "[1, 5, 2, 3, 7, 83, 12, 4]\n",
      "[1, 2, 5, 3, 7, 83, 12, 4]\n",
      "[1, 2, 3, 5, 7, 83, 12, 4]\n",
      "[1, 2, 3, 5, 7, 83, 12, 4]\n",
      "[1, 2, 3, 5, 7, 83, 12, 4]\n",
      "[1, 2, 3, 5, 7, 12, 83, 4]\n",
      "[1, 2, 3, 4, 5, 7, 12, 83]\n"
     ]
    }
   ],
   "source": [
    "insertion(arr)"
   ]
  },
  {
   "cell_type": "code",
   "execution_count": null,
   "id": "16f110b6",
   "metadata": {},
   "outputs": [],
   "source": []
  }
 ],
 "metadata": {
  "kernelspec": {
   "display_name": "Python 3",
   "language": "python",
   "name": "python3"
  },
  "language_info": {
   "codemirror_mode": {
    "name": "ipython",
    "version": 3
   },
   "file_extension": ".py",
   "mimetype": "text/x-python",
   "name": "python",
   "nbconvert_exporter": "python",
   "pygments_lexer": "ipython3",
   "version": "3.8.8"
  }
 },
 "nbformat": 4,
 "nbformat_minor": 5
}
