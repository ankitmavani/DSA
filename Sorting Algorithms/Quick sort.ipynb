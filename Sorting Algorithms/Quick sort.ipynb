{
 "cells": [
  {
   "cell_type": "code",
   "execution_count": 18,
   "id": "c3c1d3ac",
   "metadata": {},
   "outputs": [],
   "source": [
    "def Quicksort(a,l,h):\n",
    "    if l<=h:\n",
    "        print(l,h)\n",
    "        j=partition(a,l,h)\n",
    "        Quicksort(a,l,j-1)\n",
    "        Quicksort(a,j+1,h)\n",
    "    print(a)\n",
    "def partition(a,l,h):\n",
    "    \n",
    "    pivot=a[l]\n",
    "    i=l+1\n",
    "    j=h\n",
    "    while i<j:\n",
    "        while a[i]<=pivot:\n",
    "            i+=1\n",
    "        while a[j]>pivot:\n",
    "            j-=1\n",
    "        if i<j:\n",
    "            temp=a[i]\n",
    "            a[i]=a[j]\n",
    "            a[j]=temp\n",
    "    temp=a[l]\n",
    "    a[l]=a[j]\n",
    "    a[j]=temp\n",
    "    return j"
   ]
  },
  {
   "cell_type": "code",
   "execution_count": 20,
   "id": "430c5c17",
   "metadata": {},
   "outputs": [
    {
     "name": "stdout",
     "output_type": "stream",
     "text": [
      "0 6\n",
      "[10, 80, 30, 90, 40, 50, 70]\n",
      "1 6\n",
      "1 4\n",
      "1 2\n",
      "1 1\n",
      "[10, 30, 40, 50, 70, 80, 90]\n",
      "[10, 30, 40, 50, 70, 80, 90]\n",
      "[10, 30, 40, 50, 70, 80, 90]\n",
      "[10, 30, 40, 50, 70, 80, 90]\n",
      "[10, 30, 40, 50, 70, 80, 90]\n",
      "4 4\n",
      "[10, 30, 40, 50, 70, 80, 90]\n",
      "[10, 30, 40, 50, 70, 80, 90]\n",
      "[10, 30, 40, 50, 70, 80, 90]\n",
      "[10, 30, 40, 50, 70, 80, 90]\n",
      "6 6\n",
      "[10, 30, 40, 50, 70, 80, 90]\n",
      "[10, 30, 40, 50, 70, 80, 90]\n",
      "[10, 30, 40, 50, 70, 80, 90]\n",
      "[10, 30, 40, 50, 70, 80, 90]\n",
      "[10, 30, 40, 50, 70, 80, 90]\n"
     ]
    }
   ],
   "source": [
    "a=[10,80,30,90,40,50,70]\n",
    "Quicksort(a,0,len(a)-1)"
   ]
  },
  {
   "cell_type": "code",
   "execution_count": null,
   "id": "481759e9",
   "metadata": {},
   "outputs": [],
   "source": []
  }
 ],
 "metadata": {
  "kernelspec": {
   "display_name": "Python 3",
   "language": "python",
   "name": "python3"
  },
  "language_info": {
   "codemirror_mode": {
    "name": "ipython",
    "version": 3
   },
   "file_extension": ".py",
   "mimetype": "text/x-python",
   "name": "python",
   "nbconvert_exporter": "python",
   "pygments_lexer": "ipython3",
   "version": "3.8.8"
  }
 },
 "nbformat": 4,
 "nbformat_minor": 5
}
