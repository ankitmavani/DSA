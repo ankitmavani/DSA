{
 "cells": [
  {
   "cell_type": "markdown",
   "id": "4cf9b0bb",
   "metadata": {},
   "source": [
    "# pattern in python *"
   ]
  },
  {
   "cell_type": "code",
   "execution_count": 23,
   "id": "9eedd30c",
   "metadata": {},
   "outputs": [],
   "source": [
    "def pattern1(n):\n",
    "    for i in range(0,n):\n",
    "        for j in range(0,n):\n",
    "            print(\"*\",end='')\n",
    "        print(\"\")"
   ]
  },
  {
   "cell_type": "code",
   "execution_count": 25,
   "id": "cad14ede",
   "metadata": {},
   "outputs": [
    {
     "name": "stdout",
     "output_type": "stream",
     "text": [
      "*****\n",
      "*****\n",
      "*****\n",
      "*****\n",
      "*****\n"
     ]
    }
   ],
   "source": [
    "pattern1(5)"
   ]
  },
  {
   "cell_type": "code",
   "execution_count": 26,
   "id": "77a63ffa",
   "metadata": {},
   "outputs": [],
   "source": [
    "def pattern2(n):\n",
    "    for i in range(0,n):\n",
    "        for j in range(0,i+1):\n",
    "            print(\"*\",end='')\n",
    "        print(\"\")"
   ]
  },
  {
   "cell_type": "code",
   "execution_count": 27,
   "id": "5e088ecc",
   "metadata": {},
   "outputs": [
    {
     "name": "stdout",
     "output_type": "stream",
     "text": [
      "*\n",
      "**\n",
      "***\n",
      "****\n",
      "*****\n"
     ]
    }
   ],
   "source": [
    "pattern2(5)"
   ]
  },
  {
   "cell_type": "code",
   "execution_count": 28,
   "id": "bc394fd6",
   "metadata": {},
   "outputs": [],
   "source": [
    "def pattern3(n):\n",
    "    for i in range(0,n):\n",
    "        for j in range(n,i,-1):\n",
    "            print(\"*\",end='')\n",
    "        print(\"\")"
   ]
  },
  {
   "cell_type": "code",
   "execution_count": 29,
   "id": "b2fce490",
   "metadata": {},
   "outputs": [
    {
     "name": "stdout",
     "output_type": "stream",
     "text": [
      "*****\n",
      "****\n",
      "***\n",
      "**\n",
      "*\n"
     ]
    }
   ],
   "source": [
    "pattern3(5)"
   ]
  },
  {
   "cell_type": "code",
   "execution_count": 35,
   "id": "61dfc2aa",
   "metadata": {},
   "outputs": [],
   "source": [
    "def pattern4(n):\n",
    "    for i in range(0,n):\n",
    "        for k in range(n-1,i,-1):\n",
    "            print(\" \",end=\"\")\n",
    "        for j in range(0,i+1):\n",
    "            print(\"*\",end='')\n",
    "        print(\"\")"
   ]
  },
  {
   "cell_type": "code",
   "execution_count": 36,
   "id": "addbfc26",
   "metadata": {},
   "outputs": [
    {
     "name": "stdout",
     "output_type": "stream",
     "text": [
      "    *\n",
      "   **\n",
      "  ***\n",
      " ****\n",
      "*****\n"
     ]
    }
   ],
   "source": [
    "pattern4(5)"
   ]
  },
  {
   "cell_type": "code",
   "execution_count": 38,
   "id": "e141d1b8",
   "metadata": {},
   "outputs": [],
   "source": [
    "def pattern5(n):\n",
    "    for i in range(0,n):\n",
    "        for k in range(0,i):\n",
    "            print(\" \",end=\"\")\n",
    "        for j in range(n,i,-1):\n",
    "            print(\"*\",end='')\n",
    "        print(\"\")"
   ]
  },
  {
   "cell_type": "code",
   "execution_count": 39,
   "id": "28e8fc4f",
   "metadata": {},
   "outputs": [
    {
     "name": "stdout",
     "output_type": "stream",
     "text": [
      "*****\n",
      " ****\n",
      "  ***\n",
      "   **\n",
      "    *\n"
     ]
    }
   ],
   "source": [
    "pattern5(5)"
   ]
  },
  {
   "cell_type": "code",
   "execution_count": 45,
   "id": "2388f0f2",
   "metadata": {},
   "outputs": [],
   "source": [
    "def pattern6(n):\n",
    "    for i in range(0,n):\n",
    "        for k in range(n-1,i,-1):\n",
    "            print(\" \",end=\"\")\n",
    "        for j in range(0,i*2+1):\n",
    "            if j%2!=0:\n",
    "                print(\" \",end='')\n",
    "            else:\n",
    "                print(\"*\",end='')\n",
    "        print(\"\")"
   ]
  },
  {
   "cell_type": "code",
   "execution_count": 47,
   "id": "8708ccdc",
   "metadata": {},
   "outputs": [
    {
     "name": "stdout",
     "output_type": "stream",
     "text": [
      "         *\n",
      "        * *\n",
      "       * * *\n",
      "      * * * *\n",
      "     * * * * *\n",
      "    * * * * * *\n",
      "   * * * * * * *\n",
      "  * * * * * * * *\n",
      " * * * * * * * * *\n",
      "* * * * * * * * * *\n"
     ]
    }
   ],
   "source": [
    "pattern6(10)"
   ]
  },
  {
   "cell_type": "code",
   "execution_count": 55,
   "id": "f127171c",
   "metadata": {},
   "outputs": [],
   "source": [
    "def pattern7(n):\n",
    "    for i in range(n-1,-1,-1):\n",
    "        for k in range(n-1,i,-1):\n",
    "            print(\" \",end=\"\")\n",
    "        for j in range(0,i*2+1):\n",
    "            if j%2!=0:\n",
    "                print(\" \",end='')\n",
    "            else:\n",
    "                print(\"*\",end='')\n",
    "        print(\"\")"
   ]
  },
  {
   "cell_type": "code",
   "execution_count": 56,
   "id": "50df70cb",
   "metadata": {},
   "outputs": [
    {
     "name": "stdout",
     "output_type": "stream",
     "text": [
      "* * * * *\n",
      " * * * *\n",
      "  * * *\n",
      "   * *\n",
      "    *\n"
     ]
    }
   ],
   "source": [
    "pattern7(5)"
   ]
  },
  {
   "cell_type": "code",
   "execution_count": 59,
   "id": "123889b9",
   "metadata": {},
   "outputs": [],
   "source": [
    "def pattern8(n):\n",
    "    for i in range(0,n):\n",
    "        for k in range(n-1,i,-1):\n",
    "            print(\" \",end=\"\")\n",
    "        for j in range(0,i*2+1):\n",
    "            if j%2!=0:\n",
    "                print(\" \",end='')\n",
    "            else:\n",
    "                print(\"*\",end='')\n",
    "        print(\"\")\n",
    "    for i in range(n-2,-1,-1):\n",
    "        for k in range(n-1,i,-1):\n",
    "            print(\" \",end=\"\")\n",
    "        for j in range(0,i*2+1):\n",
    "            if j%2!=0:\n",
    "                print(\" \",end='')\n",
    "            else:\n",
    "                print(\"*\",end='')\n",
    "        print(\"\")"
   ]
  },
  {
   "cell_type": "code",
   "execution_count": 60,
   "id": "ac9e04b4",
   "metadata": {},
   "outputs": [
    {
     "name": "stdout",
     "output_type": "stream",
     "text": [
      "    *\n",
      "   * *\n",
      "  * * *\n",
      " * * * *\n",
      "* * * * *\n",
      " * * * *\n",
      "  * * *\n",
      "   * *\n",
      "    *\n"
     ]
    }
   ],
   "source": [
    "pattern8(5)"
   ]
  },
  {
   "cell_type": "code",
   "execution_count": 70,
   "id": "357f393f",
   "metadata": {},
   "outputs": [],
   "source": [
    "def pattern9(n):\n",
    "    for i in range(n-1,-1,-1):\n",
    "        for k in range(n-1,i,-1):\n",
    "            print(\" \",end=\"\")\n",
    "        for j in range(0,i*2+1):\n",
    "            if j%2!=0:\n",
    "                print(\" \",end='')\n",
    "            else:\n",
    "                print(\"*\",end='')\n",
    "        print(\"\")\n",
    "    for i in range(0,n):\n",
    "        for k in range(n-1,i,-1):\n",
    "            print(\" \",end=\"\")\n",
    "        for j in range(0,i*2+1):\n",
    "            if j%2!=0:\n",
    "                print(\" \",end='')\n",
    "            else:\n",
    "                print(\"*\",end='')\n",
    "        print(\"\")\n",
    "   "
   ]
  },
  {
   "cell_type": "code",
   "execution_count": 71,
   "id": "f60e971f",
   "metadata": {},
   "outputs": [
    {
     "name": "stdout",
     "output_type": "stream",
     "text": [
      "* * * * *\n",
      " * * * *\n",
      "  * * *\n",
      "   * *\n",
      "    *\n",
      "    *\n",
      "   * *\n",
      "  * * *\n",
      " * * * *\n",
      "* * * * *\n"
     ]
    }
   ],
   "source": [
    "pattern9(5)"
   ]
  },
  {
   "cell_type": "code",
   "execution_count": 80,
   "id": "5c8c2b41",
   "metadata": {},
   "outputs": [],
   "source": [
    "def pattern10(n):\n",
    "    for i in range(0,n):\n",
    "        for j in range(0,i+1):\n",
    "            print(\"*\",end='')\n",
    "        print(\"\")\n",
    "    for i in range(0,n):\n",
    "        for j in range(n,i,-1):\n",
    "            print(\"*\",end='')\n",
    "        print(\"\")"
   ]
  },
  {
   "cell_type": "code",
   "execution_count": 81,
   "id": "3e03a70c",
   "metadata": {},
   "outputs": [
    {
     "name": "stdout",
     "output_type": "stream",
     "text": [
      "*\n",
      "**\n",
      "***\n",
      "****\n",
      "*****\n",
      "*****\n",
      "****\n",
      "***\n",
      "**\n",
      "*\n"
     ]
    }
   ],
   "source": [
    "pattern10(5)"
   ]
  },
  {
   "cell_type": "markdown",
   "id": "2e128b22",
   "metadata": {},
   "source": [
    "# pattern number "
   ]
  },
  {
   "cell_type": "code",
   "execution_count": 82,
   "id": "973fc575",
   "metadata": {},
   "outputs": [],
   "source": [
    "def pattern11(n):\n",
    "    for i in range(1,n+1):\n",
    "        for j in range(1,i+1):\n",
    "            print(i,end=\"\")\n",
    "        print()"
   ]
  },
  {
   "cell_type": "code",
   "execution_count": 83,
   "id": "72a1b4bb",
   "metadata": {},
   "outputs": [
    {
     "name": "stdout",
     "output_type": "stream",
     "text": [
      "1\n",
      "22\n",
      "333\n",
      "4444\n",
      "55555\n"
     ]
    }
   ],
   "source": [
    "pattern11(5)"
   ]
  },
  {
   "cell_type": "code",
   "execution_count": 85,
   "id": "d83d56b3",
   "metadata": {},
   "outputs": [],
   "source": [
    "def pattern12(n):\n",
    "    for i in range(1,n+1):\n",
    "        for j in range(1,i+1):\n",
    "            print(j,end=\"\")\n",
    "        print()"
   ]
  },
  {
   "cell_type": "code",
   "execution_count": 86,
   "id": "7c99baf4",
   "metadata": {},
   "outputs": [
    {
     "name": "stdout",
     "output_type": "stream",
     "text": [
      "1\n",
      "12\n",
      "123\n",
      "1234\n",
      "12345\n"
     ]
    }
   ],
   "source": [
    "pattern12(5)"
   ]
  },
  {
   "cell_type": "code",
   "execution_count": 87,
   "id": "0be6f938",
   "metadata": {},
   "outputs": [],
   "source": [
    "def pattern13(n):\n",
    "    for i in range(1,n+1):\n",
    "        for j in range(n+1,i,-1):\n",
    "            print(i,end=\"\")\n",
    "        print(\"\")"
   ]
  },
  {
   "cell_type": "code",
   "execution_count": 88,
   "id": "2f7991bc",
   "metadata": {},
   "outputs": [
    {
     "name": "stdout",
     "output_type": "stream",
     "text": [
      "11111\n",
      "2222\n",
      "333\n",
      "44\n",
      "5\n"
     ]
    }
   ],
   "source": [
    "pattern13(5)"
   ]
  },
  {
   "cell_type": "code",
   "execution_count": 91,
   "id": "5f7c041c",
   "metadata": {},
   "outputs": [],
   "source": [
    "def pattern14(n):\n",
    "    for i in range(n,0,-1):\n",
    "        for j in range(0,i):\n",
    "            print(i,end=\"\")\n",
    "        print(\"\")"
   ]
  },
  {
   "cell_type": "code",
   "execution_count": 92,
   "id": "415b97b0",
   "metadata": {},
   "outputs": [
    {
     "name": "stdout",
     "output_type": "stream",
     "text": [
      "55555\n",
      "4444\n",
      "333\n",
      "22\n",
      "1\n"
     ]
    }
   ],
   "source": [
    "pattern14(5)"
   ]
  },
  {
   "cell_type": "code",
   "execution_count": 98,
   "id": "215c7e92",
   "metadata": {},
   "outputs": [],
   "source": [
    "def pattern15(n):\n",
    "    k=1\n",
    "    stop=1\n",
    "    for i in range(n):\n",
    "        for j in range(0,stop):\n",
    "            print(k,end='')\n",
    "            k=k+1\n",
    "        print(\"\")\n",
    "        stop=stop+2"
   ]
  },
  {
   "cell_type": "code",
   "execution_count": 99,
   "id": "c04d07ad",
   "metadata": {},
   "outputs": [
    {
     "name": "stdout",
     "output_type": "stream",
     "text": [
      "1\n",
      "234\n",
      "56789\n"
     ]
    }
   ],
   "source": [
    "pattern15(3)"
   ]
  },
  {
   "cell_type": "code",
   "execution_count": 100,
   "id": "a451f192",
   "metadata": {},
   "outputs": [],
   "source": [
    "def pattern16(n):\n",
    "    for i in range(0,n):\n",
    "        for j in range(n,i,-1):\n",
    "            print(j,end='')\n",
    "        print('')"
   ]
  },
  {
   "cell_type": "code",
   "execution_count": 101,
   "id": "8d86e7ea",
   "metadata": {},
   "outputs": [
    {
     "name": "stdout",
     "output_type": "stream",
     "text": [
      "54321\n",
      "5432\n",
      "543\n",
      "54\n",
      "5\n"
     ]
    }
   ],
   "source": [
    "pattern16(5)"
   ]
  },
  {
   "cell_type": "code",
   "execution_count": 104,
   "id": "67081a78",
   "metadata": {},
   "outputs": [],
   "source": [
    "def pattern16(n):\n",
    "    k=n\n",
    "    for i in range(0,n):\n",
    "        for j in range(k,0,-1):\n",
    "            print(j,end='')\n",
    "        k=k-1\n",
    "        print('')"
   ]
  },
  {
   "cell_type": "code",
   "execution_count": 105,
   "id": "6dea2e78",
   "metadata": {},
   "outputs": [
    {
     "name": "stdout",
     "output_type": "stream",
     "text": [
      "54321\n",
      "4321\n",
      "321\n",
      "21\n",
      "1\n"
     ]
    }
   ],
   "source": [
    "pattern16(5)"
   ]
  },
  {
   "cell_type": "code",
   "execution_count": 108,
   "id": "62e59e75",
   "metadata": {},
   "outputs": [],
   "source": [
    "def pattern17(n):\n",
    "    k=1\n",
    "    for i in range(1,n+1):\n",
    "        for j in range(1,i+1):\n",
    "            print(k,end=\"\")\n",
    "        k=k+2\n",
    "        print()"
   ]
  },
  {
   "cell_type": "code",
   "execution_count": 109,
   "id": "a9c50216",
   "metadata": {},
   "outputs": [
    {
     "name": "stdout",
     "output_type": "stream",
     "text": [
      "1\n",
      "33\n",
      "555\n",
      "7777\n",
      "99999\n"
     ]
    }
   ],
   "source": [
    "pattern17(5)"
   ]
  },
  {
   "cell_type": "code",
   "execution_count": 114,
   "id": "ad6fa4e6",
   "metadata": {},
   "outputs": [],
   "source": [
    "def pattern19(n):\n",
    "    for i in range(1,n+1):\n",
    "        for j in range(1,n+1):\n",
    "            if i>j:\n",
    "                print(i,end='')\n",
    "            else:\n",
    "                print(j,end='')\n",
    "        print('')"
   ]
  },
  {
   "cell_type": "code",
   "execution_count": 115,
   "id": "acd24f39",
   "metadata": {},
   "outputs": [
    {
     "name": "stdout",
     "output_type": "stream",
     "text": [
      "12345\n",
      "22345\n",
      "33345\n",
      "44445\n",
      "55555\n"
     ]
    }
   ],
   "source": [
    "pattern19(5)"
   ]
  },
  {
   "cell_type": "code",
   "execution_count": 123,
   "id": "0d50efeb",
   "metadata": {},
   "outputs": [],
   "source": [
    "def pattern20(n):\n",
    "    for i in range(1,n+1):\n",
    "        for j in range(1,i+1):\n",
    "            print(str(i*j) +\"  \",end='')\n",
    "        print('')"
   ]
  },
  {
   "cell_type": "code",
   "execution_count": 124,
   "id": "1be55f7f",
   "metadata": {},
   "outputs": [
    {
     "name": "stdout",
     "output_type": "stream",
     "text": [
      "1  \n",
      "2  4  \n",
      "3  6  9  \n",
      "4  8  12  16  \n",
      "5  10  15  20  25  \n"
     ]
    }
   ],
   "source": [
    "pattern20(5)"
   ]
  },
  {
   "cell_type": "markdown",
   "id": "9c5485b7",
   "metadata": {},
   "source": [
    "# pattern alphabet"
   ]
  },
  {
   "cell_type": "code",
   "execution_count": 125,
   "id": "ea5a54da",
   "metadata": {},
   "outputs": [],
   "source": [
    "def pattern21(n):\n",
    "    alph=65\n",
    "    for i in range(0,n):\n",
    "        for j in range(0,i+1):\n",
    "            print(chr(alph),end='')\n",
    "            alph+=1\n",
    "        print(\"\")"
   ]
  },
  {
   "cell_type": "code",
   "execution_count": 126,
   "id": "81b75e36",
   "metadata": {},
   "outputs": [
    {
     "name": "stdout",
     "output_type": "stream",
     "text": [
      "A\n",
      "BC\n",
      "DEF\n",
      "GHIJ\n",
      "KLMNO\n"
     ]
    }
   ],
   "source": [
    "pattern21(5)"
   ]
  },
  {
   "cell_type": "code",
   "execution_count": 127,
   "id": "fae8f65f",
   "metadata": {},
   "outputs": [],
   "source": [
    "def pattern22(n):\n",
    "    x=\"\"\n",
    "    for i in n:\n",
    "        x+=i\n",
    "        print(x)"
   ]
  },
  {
   "cell_type": "code",
   "execution_count": 128,
   "id": "ddd877af",
   "metadata": {},
   "outputs": [
    {
     "name": "stdout",
     "output_type": "stream",
     "text": [
      "j\n",
      "ja\n",
      "jav\n",
      "java\n"
     ]
    }
   ],
   "source": [
    "pattern22(\"java\")"
   ]
  },
  {
   "cell_type": "code",
   "execution_count": 131,
   "id": "20a53a2c",
   "metadata": {},
   "outputs": [],
   "source": [
    "def pattern23(n):\n",
    "    alph=65\n",
    "    for i in range(0,n):\n",
    "        for k in range(n-1,i,-1):\n",
    "            print(\" \",end='')\n",
    "        for j in range(0,i*2+1):\n",
    "            if j%2!=0:\n",
    "                print(\" \",end='')\n",
    "            else:\n",
    "                print(chr(alph),end='')\n",
    "                alph+=1\n",
    "        print(\"\")"
   ]
  },
  {
   "cell_type": "code",
   "execution_count": 135,
   "id": "11fba65e",
   "metadata": {},
   "outputs": [
    {
     "name": "stdout",
     "output_type": "stream",
     "text": [
      "    A\n",
      "   B C\n",
      "  D E F\n",
      " G H I J\n",
      "K L M N O\n"
     ]
    }
   ],
   "source": [
    "pattern23(5)"
   ]
  },
  {
   "cell_type": "code",
   "execution_count": null,
   "id": "67a46989",
   "metadata": {},
   "outputs": [],
   "source": []
  }
 ],
 "metadata": {
  "kernelspec": {
   "display_name": "Python 3",
   "language": "python",
   "name": "python3"
  },
  "language_info": {
   "codemirror_mode": {
    "name": "ipython",
    "version": 3
   },
   "file_extension": ".py",
   "mimetype": "text/x-python",
   "name": "python",
   "nbconvert_exporter": "python",
   "pygments_lexer": "ipython3",
   "version": "3.8.8"
  }
 },
 "nbformat": 4,
 "nbformat_minor": 5
}
