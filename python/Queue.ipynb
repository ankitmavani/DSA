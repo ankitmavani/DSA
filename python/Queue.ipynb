{
 "cells": [
  {
   "cell_type": "markdown",
   "id": "cd6760c4",
   "metadata": {},
   "source": [
    "# Queue"
   ]
  },
  {
   "cell_type": "code",
   "execution_count": 1,
   "id": "0d21ca72",
   "metadata": {},
   "outputs": [],
   "source": [
    "class Node:\n",
    "    \n",
    "    def __init__(self,data,next=None):\n",
    "        self.data=data\n",
    "        self.next=next"
   ]
  },
  {
   "cell_type": "code",
   "execution_count": 2,
   "id": "31c27170",
   "metadata": {},
   "outputs": [],
   "source": [
    "class Queue:\n",
    "    \n",
    "    def __init__(self):\n",
    "        self.rear=None\n",
    "        self.front=None\n",
    "        \n",
    "    def insert(self,data):\n",
    "        new=Node(data)\n",
    "        if self.rear is None:\n",
    "            self.front=self.rear=new\n",
    "            return\n",
    "        self.rear.next=new\n",
    "        self.rear=new\n",
    "        \n",
    "    def delete(self):\n",
    "        if self.is_empty():\n",
    "            print(\"Queue is empty...\")\n",
    "            return\n",
    "        temp=self.front\n",
    "        x=temp.data\n",
    "        self.front=temp.next\n",
    "        temp=None\n",
    "        return x\n",
    "        \n",
    "        \n",
    "    def is_empty(self):\n",
    "        if self.front is None:\n",
    "            return True\n",
    "        return False\n",
    "    \n",
    "    def display(self):\n",
    "        if self.is_empty():\n",
    "            print(\"queue is empty..\")\n",
    "            return\n",
    "        temp=self.front\n",
    "        while temp:\n",
    "            print(temp.data)\n",
    "            temp=temp.next"
   ]
  },
  {
   "cell_type": "code",
   "execution_count": 3,
   "id": "12e1804d",
   "metadata": {},
   "outputs": [],
   "source": [
    "q=Queue()"
   ]
  },
  {
   "cell_type": "code",
   "execution_count": 4,
   "id": "c372dd32",
   "metadata": {},
   "outputs": [
    {
     "data": {
      "text/plain": [
       "True"
      ]
     },
     "execution_count": 4,
     "metadata": {},
     "output_type": "execute_result"
    }
   ],
   "source": [
    "q.is_empty()"
   ]
  },
  {
   "cell_type": "code",
   "execution_count": 17,
   "id": "d907f7e2",
   "metadata": {},
   "outputs": [
    {
     "name": "stdout",
     "output_type": "stream",
     "text": [
      "stack is empty..\n"
     ]
    }
   ],
   "source": [
    "q.display()"
   ]
  },
  {
   "cell_type": "code",
   "execution_count": 6,
   "id": "bbddd2db",
   "metadata": {},
   "outputs": [],
   "source": [
    "q.insert(4)"
   ]
  },
  {
   "cell_type": "code",
   "execution_count": 16,
   "id": "df59d125",
   "metadata": {},
   "outputs": [
    {
     "data": {
      "text/plain": [
       "7"
      ]
     },
     "execution_count": 16,
     "metadata": {},
     "output_type": "execute_result"
    }
   ],
   "source": [
    "q.delete()"
   ]
  },
  {
   "cell_type": "markdown",
   "id": "7245710f",
   "metadata": {},
   "source": [
    "## Queue using List"
   ]
  },
  {
   "cell_type": "code",
   "execution_count": 19,
   "id": "50a88f6a",
   "metadata": {},
   "outputs": [],
   "source": [
    "class Queue_list:\n",
    "    def __init__(self):\n",
    "        self.queue=[]\n",
    "    \n",
    "    def is_empty(self):\n",
    "        if len(self.queue)==0:\n",
    "            return True\n",
    "        return False\n",
    "    \n",
    "    def size(self):\n",
    "        return len(self.queue)\n",
    "    \n",
    "    def push(self,val):\n",
    "        self.queue.append(val)\n",
    "    \n",
    "    def pop(self):\n",
    "        if self.is_empty():\n",
    "            print(\"empty\")\n",
    "            return\n",
    "        print(self.queue.pop(0))\n",
    "        \n",
    "    def display(self):\n",
    "        print(self.queue)"
   ]
  },
  {
   "cell_type": "code",
   "execution_count": 20,
   "id": "91ed776e",
   "metadata": {},
   "outputs": [],
   "source": [
    "q=Queue_list()"
   ]
  },
  {
   "cell_type": "code",
   "execution_count": 21,
   "id": "a942781f",
   "metadata": {},
   "outputs": [
    {
     "data": {
      "text/plain": [
       "True"
      ]
     },
     "execution_count": 21,
     "metadata": {},
     "output_type": "execute_result"
    }
   ],
   "source": [
    "q.is_empty()"
   ]
  },
  {
   "cell_type": "code",
   "execution_count": 22,
   "id": "cebf5b39",
   "metadata": {},
   "outputs": [],
   "source": [
    "q.push(4)"
   ]
  },
  {
   "cell_type": "code",
   "execution_count": 23,
   "id": "acde0349",
   "metadata": {},
   "outputs": [
    {
     "name": "stdout",
     "output_type": "stream",
     "text": [
      "[4]\n"
     ]
    }
   ],
   "source": [
    "q.display()"
   ]
  },
  {
   "cell_type": "code",
   "execution_count": 24,
   "id": "20a19435",
   "metadata": {},
   "outputs": [],
   "source": [
    "q.push(3)"
   ]
  },
  {
   "cell_type": "code",
   "execution_count": 32,
   "id": "eac778fe",
   "metadata": {},
   "outputs": [
    {
     "name": "stdout",
     "output_type": "stream",
     "text": [
      "[]\n"
     ]
    }
   ],
   "source": [
    "q.display()"
   ]
  },
  {
   "cell_type": "code",
   "execution_count": 26,
   "id": "6df531ac",
   "metadata": {},
   "outputs": [
    {
     "data": {
      "text/plain": [
       "2"
      ]
     },
     "execution_count": 26,
     "metadata": {},
     "output_type": "execute_result"
    }
   ],
   "source": [
    "q.size()"
   ]
  },
  {
   "cell_type": "code",
   "execution_count": 27,
   "id": "c2a79480",
   "metadata": {},
   "outputs": [
    {
     "name": "stdout",
     "output_type": "stream",
     "text": [
      "3\n"
     ]
    }
   ],
   "source": [
    "q.peek()"
   ]
  },
  {
   "cell_type": "code",
   "execution_count": 30,
   "id": "663ebb53",
   "metadata": {},
   "outputs": [
    {
     "name": "stdout",
     "output_type": "stream",
     "text": [
      "3\n"
     ]
    }
   ],
   "source": [
    "q.pop()"
   ]
  },
  {
   "cell_type": "markdown",
   "id": "9295e337",
   "metadata": {},
   "source": [
    "## Queue using collection.deque"
   ]
  },
  {
   "cell_type": "code",
   "execution_count": 35,
   "id": "a99cba65",
   "metadata": {},
   "outputs": [],
   "source": [
    "from collections import deque\n",
    "\n",
    "class Queue_deque:\n",
    "    def __init__(self):\n",
    "        self.queue=deque()\n",
    "    \n",
    "    def is_empty(self):\n",
    "        if len(self.queue)==0:\n",
    "            return True\n",
    "        return False\n",
    "    \n",
    "    def size(self):\n",
    "        return len(self.queue)\n",
    "    \n",
    "    def insert(self,val):\n",
    "        self.queue.append(val)\n",
    "    \n",
    "    def delete(self):\n",
    "        if self.is_empty():\n",
    "            print(\"empty\")\n",
    "            return\n",
    "        print(self.queue.popleft())\n",
    "\n",
    "        \n",
    "    def display(self):\n",
    "        print(self.queue)"
   ]
  },
  {
   "cell_type": "code",
   "execution_count": 36,
   "id": "a6b9ff5e",
   "metadata": {},
   "outputs": [],
   "source": [
    "q=Queue_deque()"
   ]
  },
  {
   "cell_type": "code",
   "execution_count": 37,
   "id": "1b9a6dcc",
   "metadata": {},
   "outputs": [
    {
     "data": {
      "text/plain": [
       "True"
      ]
     },
     "execution_count": 37,
     "metadata": {},
     "output_type": "execute_result"
    }
   ],
   "source": [
    "q.is_empty()"
   ]
  },
  {
   "cell_type": "code",
   "execution_count": 38,
   "id": "90712c2c",
   "metadata": {},
   "outputs": [],
   "source": [
    "q.push(5)"
   ]
  },
  {
   "cell_type": "code",
   "execution_count": 39,
   "id": "b0b5988e",
   "metadata": {},
   "outputs": [
    {
     "name": "stdout",
     "output_type": "stream",
     "text": [
      "deque([5])\n"
     ]
    }
   ],
   "source": [
    "q.display()"
   ]
  },
  {
   "cell_type": "code",
   "execution_count": 40,
   "id": "853d698a",
   "metadata": {},
   "outputs": [],
   "source": [
    "q.push(10)"
   ]
  },
  {
   "cell_type": "code",
   "execution_count": 41,
   "id": "65eaeb70",
   "metadata": {},
   "outputs": [
    {
     "name": "stdout",
     "output_type": "stream",
     "text": [
      "deque([5, 10])\n"
     ]
    }
   ],
   "source": [
    "q.display()"
   ]
  },
  {
   "cell_type": "code",
   "execution_count": 42,
   "id": "8f3052fc",
   "metadata": {},
   "outputs": [
    {
     "name": "stdout",
     "output_type": "stream",
     "text": [
      "5\n"
     ]
    }
   ],
   "source": [
    "q.pop()"
   ]
  },
  {
   "cell_type": "markdown",
   "id": "233d1cf0",
   "metadata": {},
   "source": [
    "## Queue using Queue"
   ]
  },
  {
   "cell_type": "code",
   "execution_count": 43,
   "id": "8ccda6a3",
   "metadata": {},
   "outputs": [],
   "source": [
    "from queue import Queue"
   ]
  },
  {
   "cell_type": "code",
   "execution_count": 44,
   "id": "5635c691",
   "metadata": {},
   "outputs": [],
   "source": [
    "class queue:\n",
    "    def __init__(self,Max):\n",
    "        self.queue=Queue(maxsize=Max)\n",
    "    \n",
    "    def is_empty(self):\n",
    "        return self.queue.empty()\n",
    "    \n",
    "    def size(self):\n",
    "        return self.queue.qsize()\n",
    "    \n",
    "    def full(self):\n",
    "        return self.queue.full()\n",
    "        \n",
    "    def push(self,val):\n",
    "        self.queue.put(val)\n",
    "    \n",
    "    def pop(self):\n",
    "        print(self.queue.get())\n",
    "        \n",
    "    def push_nowait(self,val):\n",
    "        self.queue.put_nowait(val)\n",
    "    \n",
    "    def pop_nowait(self):\n",
    "        print(self.queue.get_nowait())\n",
    "        "
   ]
  },
  {
   "cell_type": "code",
   "execution_count": null,
   "id": "399b1aca",
   "metadata": {},
   "outputs": [],
   "source": []
  }
 ],
 "metadata": {
  "kernelspec": {
   "display_name": "Python 3",
   "language": "python",
   "name": "python3"
  },
  "language_info": {
   "codemirror_mode": {
    "name": "ipython",
    "version": 3
   },
   "file_extension": ".py",
   "mimetype": "text/x-python",
   "name": "python",
   "nbconvert_exporter": "python",
   "pygments_lexer": "ipython3",
   "version": "3.8.8"
  }
 },
 "nbformat": 4,
 "nbformat_minor": 5
}
