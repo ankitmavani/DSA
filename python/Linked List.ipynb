{
 "cells": [
  {
   "cell_type": "markdown",
   "id": "4282dbef",
   "metadata": {},
   "source": [
    "## Single Linked List"
   ]
  },
  {
   "cell_type": "code",
   "execution_count": 1,
   "id": "b5eb1020",
   "metadata": {},
   "outputs": [],
   "source": [
    "class Node:\n",
    "    \n",
    "    def __init__(self,data,next=None):\n",
    "        self.data=data\n",
    "        self.next=next"
   ]
  },
  {
   "cell_type": "code",
   "execution_count": 290,
   "id": "9b54dcaf",
   "metadata": {},
   "outputs": [],
   "source": [
    "class Linked_List:\n",
    "    \n",
    "    def __init__(self):\n",
    "        self.head=None\n",
    "        \n",
    "    def print_linked_list(self):\n",
    "        temp=self.head\n",
    "        if temp is None:\n",
    "            print(\"Linked list is empty...\")\n",
    "            return\n",
    "        while temp:\n",
    "            print(temp.data)\n",
    "            temp=temp.next\n",
    "            \n",
    "    def insert_beg(self,data):\n",
    "        new=Node(data,self.head)\n",
    "        self.head=new\n",
    "        \n",
    "    def insert_end(self,data):\n",
    "        if self.head is None:\n",
    "            self.insert_beg()\n",
    "            return\n",
    "        new=Node(data)\n",
    "        temp=self.head\n",
    "        while temp.next:\n",
    "            temp=temp.next\n",
    "        temp.next=new\n",
    "        \n",
    "    def insert_after_node(self,val,data):\n",
    "        temp=self.head\n",
    "        while temp.data != val:\n",
    "            if temp.next is None:\n",
    "                print(\"this val is not in list..please enter value in list..\")\n",
    "                return\n",
    "            temp=temp.next\n",
    "        new=Node(data)\n",
    "        new.next=temp.next\n",
    "        temp.next=new\n",
    "    \n",
    "    def insert_before_node(self,val,data):\n",
    "        if self.head.data == val:\n",
    "            self.insert_beg(data)\n",
    "            return\n",
    "        temp=self.head\n",
    "        while temp.data != val:\n",
    "            if temp.next is None:\n",
    "                print(\"this val is not in list..please enter value in list..\")\n",
    "                return\n",
    "            temp1=temp\n",
    "            temp=temp.next\n",
    "        new=Node(data)\n",
    "        new.next=temp\n",
    "        temp1.next=new\n",
    "        \n",
    "    def delete_beg(self):\n",
    "        if self.is_empty():\n",
    "            print(\"Linked List is Empty...\")\n",
    "            return\n",
    "        temp=self.head\n",
    "        self.head=self.head.next\n",
    "        temp=None\n",
    "        \n",
    "    def delete_end(self):\n",
    "        if self.is_empty():\n",
    "            print(\"Linked List is Empty...\")\n",
    "            return\n",
    "        if self.head.next is None:\n",
    "            self.delete_beg()\n",
    "            return\n",
    "        temp=self.head\n",
    "        while temp.next:\n",
    "            temp1=temp\n",
    "            temp=temp.next\n",
    "        temp1.next=None\n",
    "        temp=None\n",
    "            \n",
    "    def delete_node(self,val):\n",
    "        if self.is_empty():\n",
    "            print(\"Linked List is Empty...\")\n",
    "            return\n",
    "        if self.head.data == val:\n",
    "            self.delete_beg()\n",
    "            return\n",
    "        temp=self.head\n",
    "        while temp.data != val:\n",
    "            if temp.next is None:\n",
    "                print(\"this val is not in list..please enter value in list..\")\n",
    "                return\n",
    "            temp1=temp\n",
    "            temp=temp.next\n",
    "        temp1.next=temp.next\n",
    "        temp=None\n",
    "\n",
    "    def is_empty(self):\n",
    "        if self.head is None:\n",
    "            return True\n",
    "        return False"
   ]
  },
  {
   "cell_type": "code",
   "execution_count": 223,
   "id": "72223ed4",
   "metadata": {},
   "outputs": [],
   "source": [
    "l=Linked_List()"
   ]
  },
  {
   "cell_type": "code",
   "execution_count": 226,
   "id": "f102fe7d",
   "metadata": {},
   "outputs": [
    {
     "data": {
      "text/plain": [
       "False"
      ]
     },
     "execution_count": 226,
     "metadata": {},
     "output_type": "execute_result"
    }
   ],
   "source": [
    "l.is_empty()"
   ]
  },
  {
   "cell_type": "code",
   "execution_count": 225,
   "id": "08876318",
   "metadata": {},
   "outputs": [],
   "source": [
    "l.head=Node(3)"
   ]
  },
  {
   "cell_type": "code",
   "execution_count": 205,
   "id": "1c8defc4",
   "metadata": {},
   "outputs": [],
   "source": [
    "first=Node(4)"
   ]
  },
  {
   "cell_type": "code",
   "execution_count": 206,
   "id": "2c8a5577",
   "metadata": {},
   "outputs": [],
   "source": [
    "second=Node(5)"
   ]
  },
  {
   "cell_type": "code",
   "execution_count": 207,
   "id": "efc924f1",
   "metadata": {},
   "outputs": [],
   "source": [
    "l.head.next=first"
   ]
  },
  {
   "cell_type": "code",
   "execution_count": 208,
   "id": "7ec2c641",
   "metadata": {},
   "outputs": [],
   "source": [
    "first.next=second"
   ]
  },
  {
   "cell_type": "code",
   "execution_count": 209,
   "id": "d6a24fa7",
   "metadata": {},
   "outputs": [
    {
     "name": "stdout",
     "output_type": "stream",
     "text": [
      "3\n",
      "4\n",
      "5\n"
     ]
    }
   ],
   "source": [
    "l.print_linked_list()"
   ]
  },
  {
   "cell_type": "code",
   "execution_count": 210,
   "id": "b3838dea",
   "metadata": {},
   "outputs": [],
   "source": [
    "l.insert_beg(5)"
   ]
  },
  {
   "cell_type": "code",
   "execution_count": 211,
   "id": "c3724999",
   "metadata": {},
   "outputs": [
    {
     "name": "stdout",
     "output_type": "stream",
     "text": [
      "5\n",
      "3\n",
      "4\n",
      "5\n"
     ]
    }
   ],
   "source": [
    "l.print_linked_list()"
   ]
  },
  {
   "cell_type": "code",
   "execution_count": 212,
   "id": "7f0bbddb",
   "metadata": {},
   "outputs": [],
   "source": [
    "l.insert_end(7)"
   ]
  },
  {
   "cell_type": "code",
   "execution_count": 213,
   "id": "e56fe8d4",
   "metadata": {},
   "outputs": [],
   "source": [
    "l.insert_after_node(3,8)"
   ]
  },
  {
   "cell_type": "code",
   "execution_count": 214,
   "id": "e3f32232",
   "metadata": {},
   "outputs": [],
   "source": [
    "l.insert_before_node(3,78)"
   ]
  },
  {
   "cell_type": "code",
   "execution_count": 215,
   "id": "2f68d285",
   "metadata": {},
   "outputs": [],
   "source": [
    "l.delete_beg()"
   ]
  },
  {
   "cell_type": "code",
   "execution_count": 221,
   "id": "ebb51f55",
   "metadata": {},
   "outputs": [
    {
     "name": "stdout",
     "output_type": "stream",
     "text": [
      "78\n",
      "8\n",
      "5\n"
     ]
    }
   ],
   "source": [
    "l.print_linked_list()"
   ]
  },
  {
   "cell_type": "code",
   "execution_count": 217,
   "id": "06d0e415",
   "metadata": {},
   "outputs": [],
   "source": [
    "l.delete_end()"
   ]
  },
  {
   "cell_type": "code",
   "execution_count": 220,
   "id": "c7a8d374",
   "metadata": {},
   "outputs": [],
   "source": [
    "l.delete_node(3)"
   ]
  },
  {
   "cell_type": "markdown",
   "id": "1b2edc80",
   "metadata": {},
   "source": [
    "## Circular Linked List"
   ]
  },
  {
   "cell_type": "code",
   "execution_count": 289,
   "id": "0ba309ce",
   "metadata": {},
   "outputs": [],
   "source": [
    "class circular_Linked_List:\n",
    "    \n",
    "    def __init__(self):\n",
    "        self.head=None\n",
    "        \n",
    "    def print_linked_list(self):\n",
    "        temp=self.head\n",
    "        if temp is None:\n",
    "            print(\"Linked list is empty...\")\n",
    "            return\n",
    "        while True:\n",
    "            print(temp.data)\n",
    "            temp=temp.next\n",
    "            if temp == self.head:\n",
    "                break\n",
    "            \n",
    "    def insert_beg(self,data):\n",
    "        if self.head is None:\n",
    "            new=Node(data)\n",
    "            new.next=new\n",
    "            self.head=new\n",
    "            return\n",
    "        new=Node(data,self.head)\n",
    "        temp=self.head\n",
    "        while temp.next != self.head:\n",
    "            temp=temp.next\n",
    "        temp.next=new\n",
    "        self.head=new\n",
    "        \n",
    "    def insert_end(self,data):\n",
    "        if self.head is None:\n",
    "            self.insert_beg(data)\n",
    "            return\n",
    "        new=Node(data)\n",
    "        temp=self.head\n",
    "        while temp.next != self.head:\n",
    "            temp=temp.next\n",
    "        temp.next=new\n",
    "        new.next=self.head\n",
    "        \n",
    "    def insert_after_node(self,val,data):\n",
    "        temp=self.head\n",
    "        while temp.data != val:\n",
    "            if temp.next is self.head:\n",
    "                print(\"this val is not in list..please enter value in list..\")\n",
    "                return\n",
    "            temp=temp.next\n",
    "        new=Node(data)\n",
    "        new.next=temp.next\n",
    "        temp.next=new\n",
    "    \n",
    "    def insert_before_node(self,val,data):\n",
    "        if self.head.data == val:\n",
    "            self.insert_beg(data)\n",
    "            return\n",
    "        temp=self.head\n",
    "        while temp.data != val:\n",
    "            if temp.next is self.head:\n",
    "                print(\"this val is not in list..please enter value in list..\")\n",
    "                return\n",
    "            temp1=temp\n",
    "            temp=temp.next\n",
    "        if temp.data != val:\n",
    "            print(\"this val is not in list..please enter value in list..\")\n",
    "            return\n",
    "        new=Node(data)\n",
    "        new.next=temp\n",
    "        temp1.next=new\n",
    "        \n",
    "    def delete_beg(self):\n",
    "        if self.is_empty():\n",
    "            print(\"Linked List is Empty...\")\n",
    "            return\n",
    "        temp=self.head\n",
    "        if temp.next is self.head:\n",
    "            self.head=None\n",
    "            return\n",
    "        while temp.next != self.head:\n",
    "            temp=temp.next\n",
    "        temp.next=self.head.next\n",
    "        temp1=self.head\n",
    "        self.head=self.head.next\n",
    "        temp1=None\n",
    "        \n",
    "    def delete_end(self):\n",
    "        if self.is_empty():\n",
    "            print(\"Linked List is Empty...\")\n",
    "            return\n",
    "        if self.head.next is None:\n",
    "            self.delete_beg()\n",
    "            return\n",
    "        temp=self.head\n",
    "        while temp.next != self.head:\n",
    "            temp1=temp\n",
    "            temp=temp.next\n",
    "        temp1.next=self.head\n",
    "        temp=None\n",
    "            \n",
    "    def delete_node(self,val):\n",
    "        if self.is_empty():\n",
    "            print(\"Linked List is Empty...\")\n",
    "            return\n",
    "        if self.head.data == val:\n",
    "            self.delete_beg()\n",
    "            return\n",
    "        temp=self.head\n",
    "        while temp.data != val:\n",
    "            if temp.next is self.head:\n",
    "                print(\"this val is not in list..please enter value in list..\")\n",
    "                return\n",
    "            temp1=temp\n",
    "            temp=temp.next\n",
    "        temp1.next=temp.next\n",
    "        temp=None\n",
    "\n",
    "    def is_empty(self):\n",
    "        if self.head is None:\n",
    "            return True\n",
    "        return False"
   ]
  },
  {
   "cell_type": "code",
   "execution_count": 96,
   "id": "049877f0",
   "metadata": {},
   "outputs": [],
   "source": [
    "c=circular_Linked_List()"
   ]
  },
  {
   "cell_type": "code",
   "execution_count": 121,
   "id": "7c6734ce",
   "metadata": {},
   "outputs": [
    {
     "name": "stdout",
     "output_type": "stream",
     "text": [
      "Linked List is Empty...\n"
     ]
    }
   ],
   "source": [
    "c.delete_node(4)"
   ]
  },
  {
   "cell_type": "code",
   "execution_count": 120,
   "id": "3676defd",
   "metadata": {},
   "outputs": [
    {
     "name": "stdout",
     "output_type": "stream",
     "text": [
      "Linked list is empty...\n"
     ]
    }
   ],
   "source": [
    "c.print_linked_list()"
   ]
  },
  {
   "cell_type": "markdown",
   "id": "5905f268",
   "metadata": {},
   "source": [
    "## Double Linked List "
   ]
  },
  {
   "cell_type": "code",
   "execution_count": 124,
   "id": "a36ea0c2",
   "metadata": {},
   "outputs": [],
   "source": [
    "class node:\n",
    "    \n",
    "    def __init__(self,data,prev=None,nxt=None):    \n",
    "        self.data=data\n",
    "        self.prev=prev\n",
    "        self.next=nxt"
   ]
  },
  {
   "cell_type": "code",
   "execution_count": 291,
   "id": "3a85a0a4",
   "metadata": {},
   "outputs": [],
   "source": [
    "class Double_Linked_List:\n",
    "    \n",
    "    def __init__(self):\n",
    "        self.head=None\n",
    "        \n",
    "    def print_linked_list(self):\n",
    "        temp=self.head\n",
    "        if temp is None:\n",
    "            print(\"Linked list is empty...\")\n",
    "            return\n",
    "        while temp:\n",
    "            print(temp.data)\n",
    "            temp=temp.next\n",
    "            \n",
    "    def insert_beg(self,data):\n",
    "        new=node(data,nxt=self.head)\n",
    "        if self.head is not None:\n",
    "            self.head.prev=new\n",
    "        self.head=new\n",
    "        \n",
    "    def insert_end(self,data):\n",
    "        if self.head is None:\n",
    "            self.insert_beg(data)\n",
    "            return\n",
    "        temp=self.head\n",
    "        while temp.next:\n",
    "            temp=temp.next\n",
    "        new=node(data,prev=temp)\n",
    "        temp.next=new\n",
    "        \n",
    "    def insert_after_node(self,val,data):\n",
    "        if self.is_empty():\n",
    "            print(\"Linked List is Empty...\")\n",
    "            return\n",
    "        temp=self.head\n",
    "        while temp.data != val:\n",
    "            if temp.next is None:\n",
    "                print(\"this val is not in list..please enter value in list..\")\n",
    "                return\n",
    "            temp=temp.next\n",
    "        new=node(data,temp,temp.next)\n",
    "        if temp.next is not None:\n",
    "            temp.next.prev=new\n",
    "        temp.next=new\n",
    "    \n",
    "    def insert_before_node(self,val,data):\n",
    "        if self.is_empty():\n",
    "            print(\"Linked List is Empty...\")\n",
    "            return\n",
    "        if self.head.data == val:\n",
    "            self.insert_beg(data)\n",
    "            return\n",
    "        temp=self.head\n",
    "        while temp.data != val:\n",
    "            if temp.next is None:\n",
    "                print(\"this val is not in list..please enter value in list..\")\n",
    "                return\n",
    "            temp1=temp\n",
    "            temp=temp.next\n",
    "        new=node(data,temp1,temp)\n",
    "        temp.prev=new\n",
    "        temp1.next=new\n",
    "        \n",
    "    def delete_beg(self):\n",
    "        if self.is_empty():\n",
    "            print(\"Linked List is Empty...\")\n",
    "            return\n",
    "        temp=self.head\n",
    "        if self.head.next is not None:\n",
    "            self.head.next.prev=None\n",
    "        self.head=temp.next\n",
    "        temp=None\n",
    "\n",
    "        \n",
    "    def delete_end(self):\n",
    "        if self.is_empty():\n",
    "            print(\"Linked List is Empty...\")\n",
    "            return\n",
    "        if self.head.next is None:\n",
    "            self.delete_beg()\n",
    "            return\n",
    "        temp=self.head\n",
    "        while temp.next:\n",
    "            temp1=temp\n",
    "            temp=temp.next\n",
    "        temp1.next=None\n",
    "        temp=None\n",
    "            \n",
    "    def delete_node(self,val):\n",
    "        if self.is_empty():\n",
    "            print(\"Linked List is Empty...\")\n",
    "            return\n",
    "        if self.head.data == val:\n",
    "            self.delete_beg()\n",
    "            return\n",
    "        temp=self.head\n",
    "        while temp.data != val:\n",
    "            if temp.next is None:\n",
    "                print(\"this val is not in list..please enter value in list..\")\n",
    "                return\n",
    "            temp1=temp\n",
    "            temp=temp.next\n",
    "        temp1.next=temp.next\n",
    "        if temp.next is not None:\n",
    "            temp.next.prev=temp1\n",
    "        temp=None\n",
    "\n",
    "    def is_empty(self):\n",
    "        if self.head is None:\n",
    "            return True\n",
    "        return False"
   ]
  },
  {
   "cell_type": "code",
   "execution_count": 275,
   "id": "81ee0220",
   "metadata": {},
   "outputs": [],
   "source": [
    "d=Double_Linked_List()"
   ]
  },
  {
   "cell_type": "code",
   "execution_count": 284,
   "id": "2c9b3636",
   "metadata": {},
   "outputs": [
    {
     "data": {
      "text/plain": [
       "False"
      ]
     },
     "execution_count": 284,
     "metadata": {},
     "output_type": "execute_result"
    }
   ],
   "source": [
    "d.is_empty()"
   ]
  },
  {
   "cell_type": "code",
   "execution_count": 280,
   "id": "5b1c0aef",
   "metadata": {},
   "outputs": [],
   "source": [
    "d.insert_end(921)"
   ]
  },
  {
   "cell_type": "code",
   "execution_count": 282,
   "id": "1307e8a0",
   "metadata": {},
   "outputs": [],
   "source": [
    "d.delete_node(921)"
   ]
  },
  {
   "cell_type": "code",
   "execution_count": 283,
   "id": "8c220703",
   "metadata": {},
   "outputs": [
    {
     "name": "stdout",
     "output_type": "stream",
     "text": [
      "92\n",
      "9\n"
     ]
    }
   ],
   "source": [
    "d.print_linked_list()"
   ]
  },
  {
   "cell_type": "code",
   "execution_count": null,
   "id": "92287fe3",
   "metadata": {},
   "outputs": [],
   "source": []
  }
 ],
 "metadata": {
  "kernelspec": {
   "display_name": "Python 3",
   "language": "python",
   "name": "python3"
  },
  "language_info": {
   "codemirror_mode": {
    "name": "ipython",
    "version": 3
   },
   "file_extension": ".py",
   "mimetype": "text/x-python",
   "name": "python",
   "nbconvert_exporter": "python",
   "pygments_lexer": "ipython3",
   "version": "3.8.8"
  }
 },
 "nbformat": 4,
 "nbformat_minor": 5
}
