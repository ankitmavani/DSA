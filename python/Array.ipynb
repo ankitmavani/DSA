{
 "cells": [
  {
   "cell_type": "markdown",
   "id": "554fc43d",
   "metadata": {},
   "source": [
    "# operation in Array\n",
    "    \n",
    "    1.Traverse\n",
    "    2.insertion\n",
    "    3.delete\n",
    "    4.update\n",
    "    5.search"
   ]
  },
  {
   "cell_type": "code",
   "execution_count": 32,
   "id": "20817609",
   "metadata": {},
   "outputs": [],
   "source": [
    "import array\n",
    "class Array:\n",
    "    def __init__(self,data,l):\n",
    "        self.arr=array.array(data,l)\n",
    "    \n",
    "    def display(self):\n",
    "        if len(self.arr)==0:\n",
    "            print(\"array is empty\")\n",
    "            return\n",
    "        l=len(self.arr)\n",
    "        for i in range(0,l):\n",
    "            print(self.arr[i])\n",
    "    \n",
    "    def insertion(self,pos,val):\n",
    "        self.arr.insert(pos,val)\n",
    "        \n",
    "    def deletion(self,val):\n",
    "        self.arr.remove(val)\n",
    "    \n",
    "    def search(self,val):\n",
    "        print(self.arr.index(val))\n",
    "        \n",
    "    def update(self,pos,val):\n",
    "        self.arr[pos]=val\n",
    "    \n",
    "    def insert_end(self,val):\n",
    "        self.arr.append(val)\n",
    "        \n",
    "    def delete_end(self):\n",
    "        print(self.arr.pop())"
   ]
  },
  {
   "cell_type": "code",
   "execution_count": 33,
   "id": "110b5acb",
   "metadata": {},
   "outputs": [],
   "source": [
    "a=Array('i',[])"
   ]
  },
  {
   "cell_type": "code",
   "execution_count": 34,
   "id": "de96df0a",
   "metadata": {},
   "outputs": [],
   "source": [
    "a.insert_end(5)"
   ]
  },
  {
   "cell_type": "code",
   "execution_count": 35,
   "id": "5183c902",
   "metadata": {},
   "outputs": [
    {
     "name": "stdout",
     "output_type": "stream",
     "text": [
      "5\n"
     ]
    }
   ],
   "source": [
    "a.display()"
   ]
  },
  {
   "cell_type": "code",
   "execution_count": 36,
   "id": "c9e82dd3",
   "metadata": {},
   "outputs": [],
   "source": [
    "a.insert_end(12)"
   ]
  },
  {
   "cell_type": "code",
   "execution_count": 37,
   "id": "12f4bbcf",
   "metadata": {},
   "outputs": [
    {
     "name": "stdout",
     "output_type": "stream",
     "text": [
      "5\n",
      "12\n"
     ]
    }
   ],
   "source": [
    "a.display()"
   ]
  },
  {
   "cell_type": "code",
   "execution_count": 38,
   "id": "6280e70b",
   "metadata": {},
   "outputs": [
    {
     "name": "stdout",
     "output_type": "stream",
     "text": [
      "12\n"
     ]
    }
   ],
   "source": [
    "a.delete_end()"
   ]
  },
  {
   "cell_type": "code",
   "execution_count": 39,
   "id": "538812e9",
   "metadata": {},
   "outputs": [
    {
     "name": "stdout",
     "output_type": "stream",
     "text": [
      "5\n"
     ]
    }
   ],
   "source": [
    "a.display()"
   ]
  },
  {
   "cell_type": "code",
   "execution_count": 40,
   "id": "0f24c65b",
   "metadata": {},
   "outputs": [],
   "source": [
    "a.insertion(1,13)"
   ]
  },
  {
   "cell_type": "code",
   "execution_count": 41,
   "id": "cc232b18",
   "metadata": {},
   "outputs": [
    {
     "name": "stdout",
     "output_type": "stream",
     "text": [
      "5\n",
      "13\n"
     ]
    }
   ],
   "source": [
    "a.display()"
   ]
  },
  {
   "cell_type": "code",
   "execution_count": 42,
   "id": "00bb228d",
   "metadata": {},
   "outputs": [],
   "source": [
    "a.insertion(1,7)"
   ]
  },
  {
   "cell_type": "code",
   "execution_count": 43,
   "id": "fcc77fc2",
   "metadata": {},
   "outputs": [],
   "source": [
    "a.insertion(2,10)"
   ]
  },
  {
   "cell_type": "code",
   "execution_count": 44,
   "id": "b976a812",
   "metadata": {},
   "outputs": [
    {
     "name": "stdout",
     "output_type": "stream",
     "text": [
      "5\n",
      "7\n",
      "10\n",
      "13\n"
     ]
    }
   ],
   "source": [
    "a.display()"
   ]
  },
  {
   "cell_type": "code",
   "execution_count": 45,
   "id": "aa26f009",
   "metadata": {},
   "outputs": [],
   "source": [
    "a.update(2,12)"
   ]
  },
  {
   "cell_type": "code",
   "execution_count": 46,
   "id": "3a49be74",
   "metadata": {},
   "outputs": [
    {
     "name": "stdout",
     "output_type": "stream",
     "text": [
      "5\n",
      "7\n",
      "12\n",
      "13\n"
     ]
    }
   ],
   "source": [
    "a.display()"
   ]
  },
  {
   "cell_type": "code",
   "execution_count": 47,
   "id": "ebae0698",
   "metadata": {},
   "outputs": [
    {
     "name": "stdout",
     "output_type": "stream",
     "text": [
      "1\n"
     ]
    }
   ],
   "source": [
    "a.search(7)"
   ]
  },
  {
   "cell_type": "code",
   "execution_count": 48,
   "id": "659dda4b",
   "metadata": {},
   "outputs": [
    {
     "name": "stdout",
     "output_type": "stream",
     "text": [
      "0\n"
     ]
    }
   ],
   "source": [
    "a.search(5)"
   ]
  },
  {
   "cell_type": "code",
   "execution_count": 49,
   "id": "2bf52a20",
   "metadata": {},
   "outputs": [
    {
     "name": "stdout",
     "output_type": "stream",
     "text": [
      "13\n"
     ]
    }
   ],
   "source": [
    "a.delete_end()"
   ]
  },
  {
   "cell_type": "code",
   "execution_count": 50,
   "id": "49456c51",
   "metadata": {},
   "outputs": [
    {
     "name": "stdout",
     "output_type": "stream",
     "text": [
      "12\n"
     ]
    }
   ],
   "source": [
    "a.delete_end()"
   ]
  },
  {
   "cell_type": "code",
   "execution_count": 51,
   "id": "ee1b95d4",
   "metadata": {},
   "outputs": [
    {
     "name": "stdout",
     "output_type": "stream",
     "text": [
      "7\n"
     ]
    }
   ],
   "source": [
    "a.delete_end()"
   ]
  },
  {
   "cell_type": "code",
   "execution_count": 52,
   "id": "17d1d820",
   "metadata": {},
   "outputs": [],
   "source": [
    "a.deletion(5)"
   ]
  },
  {
   "cell_type": "code",
   "execution_count": 53,
   "id": "5a4e6b90",
   "metadata": {},
   "outputs": [
    {
     "name": "stdout",
     "output_type": "stream",
     "text": [
      "array is empty\n"
     ]
    }
   ],
   "source": [
    "a.display()"
   ]
  },
  {
   "cell_type": "code",
   "execution_count": 54,
   "id": "147f85ae",
   "metadata": {},
   "outputs": [
    {
     "name": "stdout",
     "output_type": "stream",
     "text": [
      "array is empty\n"
     ]
    }
   ],
   "source": [
    "a.display()"
   ]
  },
  {
   "cell_type": "code",
   "execution_count": 55,
   "id": "bd34fce1",
   "metadata": {},
   "outputs": [],
   "source": [
    "a.insertion(0,12)"
   ]
  },
  {
   "cell_type": "code",
   "execution_count": 56,
   "id": "d06d35d6",
   "metadata": {},
   "outputs": [
    {
     "name": "stdout",
     "output_type": "stream",
     "text": [
      "12\n"
     ]
    }
   ],
   "source": [
    "a.display()"
   ]
  },
  {
   "cell_type": "code",
   "execution_count": 57,
   "id": "99a27427",
   "metadata": {},
   "outputs": [
    {
     "name": "stdout",
     "output_type": "stream",
     "text": [
      "12\n"
     ]
    }
   ],
   "source": [
    "a.delete_end()"
   ]
  },
  {
   "cell_type": "code",
   "execution_count": 58,
   "id": "46a1d229",
   "metadata": {},
   "outputs": [
    {
     "name": "stdout",
     "output_type": "stream",
     "text": [
      "array is empty\n"
     ]
    }
   ],
   "source": [
    "a.display()"
   ]
  },
  {
   "cell_type": "code",
   "execution_count": 60,
   "id": "da441508",
   "metadata": {},
   "outputs": [],
   "source": [
    "class comp:\n",
    "    def __init__(self,x,y):\n",
    "        self.x=x\n",
    "        self.y=y"
   ]
  },
  {
   "cell_type": "code",
   "execution_count": 62,
   "id": "b3b92a27",
   "metadata": {},
   "outputs": [],
   "source": [
    "list=[]"
   ]
  },
  {
   "cell_type": "code",
   "execution_count": 63,
   "id": "8011d7f2",
   "metadata": {},
   "outputs": [],
   "source": [
    "list.append(comp(5,6))"
   ]
  },
  {
   "cell_type": "code",
   "execution_count": 78,
   "id": "cc703836",
   "metadata": {},
   "outputs": [
    {
     "name": "stdout",
     "output_type": "stream",
     "text": [
      "5+6i\n",
      "8+9i\n",
      "8+9i\n",
      "12+23i\n",
      "1+23i\n",
      "2+5i\n"
     ]
    }
   ],
   "source": [
    "for i in list:\n",
    "    print(str(i.x)+\"+\"+str(i.y)+\"i\")"
   ]
  },
  {
   "cell_type": "code",
   "execution_count": 71,
   "id": "9d99b461",
   "metadata": {},
   "outputs": [],
   "source": [
    "list.append(comp(8,9))"
   ]
  },
  {
   "cell_type": "code",
   "execution_count": 72,
   "id": "e1e67f01",
   "metadata": {},
   "outputs": [],
   "source": [
    "list.append(comp(12,23))"
   ]
  },
  {
   "cell_type": "code",
   "execution_count": 73,
   "id": "41ea8da2",
   "metadata": {},
   "outputs": [],
   "source": [
    "list.append(comp(1,23))"
   ]
  },
  {
   "cell_type": "code",
   "execution_count": 74,
   "id": "c0ec6cdf",
   "metadata": {},
   "outputs": [],
   "source": [
    "list.append(comp(2,5))"
   ]
  },
  {
   "cell_type": "code",
   "execution_count": null,
   "id": "ffa2f265",
   "metadata": {},
   "outputs": [],
   "source": []
  }
 ],
 "metadata": {
  "kernelspec": {
   "display_name": "Python 3",
   "language": "python",
   "name": "python3"
  },
  "language_info": {
   "codemirror_mode": {
    "name": "ipython",
    "version": 3
   },
   "file_extension": ".py",
   "mimetype": "text/x-python",
   "name": "python",
   "nbconvert_exporter": "python",
   "pygments_lexer": "ipython3",
   "version": "3.8.8"
  }
 },
 "nbformat": 4,
 "nbformat_minor": 5
}
