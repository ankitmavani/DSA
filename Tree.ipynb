{
 "cells": [
  {
   "cell_type": "code",
   "execution_count": 86,
   "id": "b7d84f2e",
   "metadata": {},
   "outputs": [],
   "source": [
    "class TreeNode:\n",
    "    \n",
    "    def __init__(self,data):\n",
    "        self.data=data\n",
    "        self.children=[]\n",
    "        self.parent=None\n",
    "        \n",
    "    def get_level(self):\n",
    "        level=0\n",
    "        temp=self.parent\n",
    "        while temp:\n",
    "            level+=1\n",
    "            temp=temp.parent\n",
    "        return level\n",
    "        \n",
    "    def print_tree(self):\n",
    "        p=' '*self.get_level()*3 + \"|__\" if self.parent else \"\"\n",
    "        print(p+self.data)\n",
    "        if self.children:\n",
    "            for child in self.children:\n",
    "                child.print_tree()\n",
    "        \n",
    "    def add(self,child):\n",
    "        child.parent=self\n",
    "        self.children.append(child)\n",
    "        "
   ]
  },
  {
   "cell_type": "code",
   "execution_count": 87,
   "id": "8d563162",
   "metadata": {},
   "outputs": [],
   "source": [
    "root=TreeNode(\"Electronics\")"
   ]
  },
  {
   "cell_type": "code",
   "execution_count": 88,
   "id": "06a26689",
   "metadata": {},
   "outputs": [],
   "source": [
    "laptop=TreeNode(\"Laptop\")"
   ]
  },
  {
   "cell_type": "code",
   "execution_count": 89,
   "id": "e902906b",
   "metadata": {},
   "outputs": [],
   "source": [
    "laptop.add(TreeNode(\"Mac\"))\n",
    "laptop.add(TreeNode(\"Surface\"))\n",
    "laptop.add(TreeNode(\"Thinkpad\"))"
   ]
  },
  {
   "cell_type": "code",
   "execution_count": 90,
   "id": "e20a1524",
   "metadata": {},
   "outputs": [],
   "source": [
    "cellphone=TreeNode(\"cellphone\")"
   ]
  },
  {
   "cell_type": "code",
   "execution_count": 91,
   "id": "33d48ce2",
   "metadata": {},
   "outputs": [],
   "source": [
    "cellphone.add(TreeNode(\"iphone\"))\n",
    "cellphone.add(TreeNode(\"pixel\"))\n",
    "cellphone.add(TreeNode(\"vivo\"))"
   ]
  },
  {
   "cell_type": "code",
   "execution_count": 92,
   "id": "308f3a6a",
   "metadata": {},
   "outputs": [],
   "source": [
    "tv=TreeNode(\"Tv\")"
   ]
  },
  {
   "cell_type": "code",
   "execution_count": 93,
   "id": "d6d30d31",
   "metadata": {},
   "outputs": [],
   "source": [
    "tv.add(TreeNode(\"samsung\"))\n",
    "tv.add(TreeNode(\"Lg\"))"
   ]
  },
  {
   "cell_type": "code",
   "execution_count": 94,
   "id": "9764b481",
   "metadata": {},
   "outputs": [],
   "source": [
    "root.add(laptop)"
   ]
  },
  {
   "cell_type": "code",
   "execution_count": 95,
   "id": "33e11f77",
   "metadata": {},
   "outputs": [],
   "source": [
    "root.add(cellphone)"
   ]
  },
  {
   "cell_type": "code",
   "execution_count": 96,
   "id": "68130660",
   "metadata": {},
   "outputs": [],
   "source": [
    "root.add(tv)"
   ]
  },
  {
   "cell_type": "code",
   "execution_count": 97,
   "id": "ec84565f",
   "metadata": {},
   "outputs": [
    {
     "name": "stdout",
     "output_type": "stream",
     "text": [
      "Electronics\n",
      "   |__Laptop\n",
      "      |__Mac\n",
      "      |__Surface\n",
      "      |__Thinkpad\n",
      "   |__cellphone\n",
      "      |__iphone\n",
      "      |__pixel\n",
      "      |__vivo\n",
      "   |__Tv\n",
      "      |__samsung\n",
      "      |__Lg\n"
     ]
    }
   ],
   "source": [
    "root.print_tree()"
   ]
  },
  {
   "cell_type": "code",
   "execution_count": 27,
   "id": "f1ec308b",
   "metadata": {},
   "outputs": [],
   "source": [
    "class TreeNode:\n",
    "    \n",
    "    def __init__(self,name,designation):\n",
    "        self.name=name\n",
    "        self.designation=designation\n",
    "        self.children=[]\n",
    "        self.parent=None\n",
    "        \n",
    "    def get_level(self):\n",
    "        level=0\n",
    "        temp=self.parent\n",
    "        while temp:\n",
    "            level+=1\n",
    "            temp=temp.parent\n",
    "        return level\n",
    "        \n",
    "    def print_tree(self,p_name):\n",
    "        if p_name == 'both':\n",
    "            val=self.name+\"(\"+self.designation+\")\"\n",
    "        elif p_name== 'name':\n",
    "            val=self.name\n",
    "        else:\n",
    "            val=self.designation\n",
    "        p=' '*self.get_level()*3 + \"|__\" if self.parent else \"\"\n",
    "        print(p+val)\n",
    "        if self.children:\n",
    "            for child in self.children:\n",
    "                child.print_tree(p_name)\n",
    "        \n",
    "    def add(self,child):\n",
    "        child.parent=self\n",
    "        self.children.append(child)\n",
    "        "
   ]
  },
  {
   "cell_type": "code",
   "execution_count": 28,
   "id": "83a16754",
   "metadata": {},
   "outputs": [],
   "source": [
    "root=TreeNode(\"Nilupul\",\"CEO\")"
   ]
  },
  {
   "cell_type": "code",
   "execution_count": 29,
   "id": "c55a4137",
   "metadata": {},
   "outputs": [],
   "source": [
    "chinamay=TreeNode(\"chinmay\",\"CTO\")"
   ]
  },
  {
   "cell_type": "code",
   "execution_count": 30,
   "id": "f0863645",
   "metadata": {},
   "outputs": [],
   "source": [
    "vishma=TreeNode(\"vishma\",\"Infrastructure Head\")"
   ]
  },
  {
   "cell_type": "code",
   "execution_count": 31,
   "id": "f432df3c",
   "metadata": {},
   "outputs": [],
   "source": [
    "vishma.add(TreeNode(\"Dhaval\",\"Cloud Manager\"))"
   ]
  },
  {
   "cell_type": "code",
   "execution_count": 32,
   "id": "23d3cb32",
   "metadata": {},
   "outputs": [],
   "source": [
    "vishma.add(TreeNode(\"Abhijit\",\"App Manager\"))"
   ]
  },
  {
   "cell_type": "code",
   "execution_count": 33,
   "id": "9da94322",
   "metadata": {},
   "outputs": [],
   "source": [
    "chinamay.add(TreeNode(\"Aamir\",\"Application Head\"))"
   ]
  },
  {
   "cell_type": "code",
   "execution_count": 34,
   "id": "b721af0d",
   "metadata": {},
   "outputs": [],
   "source": [
    "chinamay.add(vishma)"
   ]
  },
  {
   "cell_type": "code",
   "execution_count": 35,
   "id": "8c20debc",
   "metadata": {},
   "outputs": [],
   "source": [
    "gels=TreeNode(\"Gels\",\"HR Head\")"
   ]
  },
  {
   "cell_type": "code",
   "execution_count": 36,
   "id": "cc6043ff",
   "metadata": {},
   "outputs": [],
   "source": [
    "gels.add(TreeNode(\"peter\",\"recruitment manager\"))"
   ]
  },
  {
   "cell_type": "code",
   "execution_count": 37,
   "id": "d0c4e351",
   "metadata": {},
   "outputs": [],
   "source": [
    "gels.add(TreeNode(\"waqas\",\"policy manage\"))"
   ]
  },
  {
   "cell_type": "code",
   "execution_count": 38,
   "id": "f22a834f",
   "metadata": {},
   "outputs": [],
   "source": [
    "root.add(chinamay)"
   ]
  },
  {
   "cell_type": "code",
   "execution_count": 39,
   "id": "1da6bf88",
   "metadata": {},
   "outputs": [],
   "source": [
    "root.add(gels)"
   ]
  },
  {
   "cell_type": "code",
   "execution_count": 40,
   "id": "614b6b61",
   "metadata": {},
   "outputs": [
    {
     "name": "stdout",
     "output_type": "stream",
     "text": [
      "Nilupul(CEO)\n",
      "   |__chinmay(CTO)\n",
      "      |__Aamir(Application Head)\n",
      "      |__vishma(Infrastructure Head)\n",
      "         |__Dhaval(Cloud Manager)\n",
      "         |__Abhijit(App Manager)\n",
      "   |__Gels(HR Head)\n",
      "      |__peter(recruitment manager)\n",
      "      |__waqas(policy manage)\n"
     ]
    }
   ],
   "source": [
    "root.print_tree(\"both\")"
   ]
  },
  {
   "cell_type": "markdown",
   "id": "87b89c2e",
   "metadata": {},
   "source": [
    "## Tree "
   ]
  },
  {
   "cell_type": "code",
   "execution_count": 105,
   "id": "cd322c34",
   "metadata": {},
   "outputs": [],
   "source": [
    "from collections import deque\n",
    "\n",
    "class TreeNode:\n",
    "    \n",
    "    def __init__(self,data,left=None,right=None):\n",
    "        self.data=data\n",
    "        self.left=left\n",
    "        self.right=right\n",
    "    \n",
    "            \n",
    "    def pre_display(self):\n",
    "        print(self.data+\"-->\",end='')\n",
    "        if self.left:\n",
    "            self.left.pre_display()\n",
    "        if self.right:\n",
    "            self.right.pre_display()\n",
    "    \n",
    "    def in_display(self):\n",
    "        if self.left:\n",
    "            self.left.in_display()\n",
    "        print(self.data+\"-->\",end='')\n",
    "        if self.right:\n",
    "            self.right.in_display()\n",
    "    \n",
    "    def post_display(self):\n",
    "        if self.left:\n",
    "            self.left.post_display()\n",
    "        if self.right:\n",
    "            self.right.post_display()\n",
    "        print(self.data+\"-->\",end='')\n",
    "        \n",
    "    def interative_pre_order(self):\n",
    "        if self is None:\n",
    "            return\n",
    "        stack=[]\n",
    "        stack.append(self)\n",
    "        while len(stack)>0:\n",
    "            temp=stack.pop()\n",
    "            print(temp.data+\"-->\",end='')\n",
    "            if temp.right is not None:\n",
    "                stack.append(temp.right)\n",
    "            if temp.left is not None:\n",
    "                stack.append(temp.left)\n",
    "                \n",
    "    def interative_post_order(self):\n",
    "        if self is None:\n",
    "            return\n",
    "        stack=[]\n",
    "        stack2=[]\n",
    "        stack.append(self)\n",
    "        while len(stack)>0:\n",
    "            temp=stack.pop()\n",
    "            stack2.append(temp)\n",
    "            if temp.left is not None:\n",
    "                stack.append(temp.left)\n",
    "            if temp.right is not None:\n",
    "                stack.append(temp.right)\n",
    "        while stack2:\n",
    "            temp=stack2.pop()\n",
    "            print(temp.data)\n",
    "            \n",
    "    def interative_in_order(self):\n",
    "        stack=[]\n",
    "        temp=self\n",
    "        a=0\n",
    "        while a==0:\n",
    "            if temp is not None:\n",
    "                stack.append(temp)\n",
    "                temp=temp.left\n",
    "            elif stack:\n",
    "                temp=stack.pop()\n",
    "                print(temp.data+\"-->\",end='')\n",
    "                temp=temp.right\n",
    "            else:\n",
    "                break;\n",
    "class Tree:\n",
    "    \n",
    "    def __init__(self):\n",
    "        self.root=None\n",
    "    \n",
    "            \n",
    "    def create(self):\n",
    "        stack=deque()\n",
    "        val=input(\"enter a root node\")\n",
    "        new=TreeNode(val)\n",
    "        self.root=new\n",
    "        stack.append(new)\n",
    "        while stack:\n",
    "            temp=stack.pop()\n",
    "            if temp.left is None:\n",
    "                val1=input(\"enter a left element\"+\" \"+temp.data+\"  \")\n",
    "                if val1=='0':\n",
    "                    temp.left=None\n",
    "                else:\n",
    "                    new=TreeNode(val1)\n",
    "                    temp.left=new\n",
    "                    stack.append(new)\n",
    "            if temp.right is None:\n",
    "                val2=input(\"enter a right element\"+\" \"+temp.data+\"  \")\n",
    "                if val2=='0':\n",
    "                    temp.right=None\n",
    "                else:\n",
    "                    new=TreeNode(val2)\n",
    "                    temp.right=new\n",
    "                    stack.append(new)\n",
    "                    \n",
    "    def predisplay(self):\n",
    "        self.root.pre_display()\n",
    "        \n",
    "    def indisplay(self):\n",
    "        self.root.in_display()\n",
    "    \n",
    "    def postdisplay(self):\n",
    "        self.root.post_display()\n",
    "        \n",
    "    def iterative_preorder(self):\n",
    "        self.root.interative_pre_order()\n",
    "        \n",
    "    def iterative_post_order(self):\n",
    "        self.root.interative_post_order()\n",
    "    \n",
    "    def iterative_in_order(self):\n",
    "        self.root.interative_in_order()"
   ]
  },
  {
   "cell_type": "code",
   "execution_count": 108,
   "id": "797f79d3",
   "metadata": {},
   "outputs": [],
   "source": [
    "t=Tree()"
   ]
  },
  {
   "cell_type": "code",
   "execution_count": 109,
   "id": "853a21d3",
   "metadata": {
    "scrolled": true
   },
   "outputs": [
    {
     "name": "stdout",
     "output_type": "stream",
     "text": [
      "enter a root nodea\n",
      "enter a left element a  b\n",
      "enter a right element a  c\n",
      "enter a left element c  0\n",
      "enter a right element c  0\n",
      "enter a left element b  0\n",
      "enter a right element b  0\n"
     ]
    }
   ],
   "source": [
    "t.create()"
   ]
  },
  {
   "cell_type": "code",
   "execution_count": 110,
   "id": "49fee227",
   "metadata": {
    "scrolled": false
   },
   "outputs": [
    {
     "name": "stdout",
     "output_type": "stream",
     "text": [
      "b-->a-->c-->"
     ]
    }
   ],
   "source": [
    "t.iterative_in_order()"
   ]
  },
  {
   "cell_type": "code",
   "execution_count": null,
   "id": "1d9294c1",
   "metadata": {},
   "outputs": [],
   "source": []
  }
 ],
 "metadata": {
  "kernelspec": {
   "display_name": "Python 3",
   "language": "python",
   "name": "python3"
  },
  "language_info": {
   "codemirror_mode": {
    "name": "ipython",
    "version": 3
   },
   "file_extension": ".py",
   "mimetype": "text/x-python",
   "name": "python",
   "nbconvert_exporter": "python",
   "pygments_lexer": "ipython3",
   "version": "3.8.8"
  }
 },
 "nbformat": 4,
 "nbformat_minor": 5
}
